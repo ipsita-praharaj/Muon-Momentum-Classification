{
 "cells": [
  {
   "cell_type": "code",
   "execution_count": 253,
   "metadata": {},
   "outputs": [],
   "source": [
    "from numpy import load\n",
    "from numpy import array\n",
    "import numpy as np\n",
    "\n",
    "import pandas as pd\n",
    "from pandas import read_csv\n",
    "\n",
    "from keras.layers import Input, Conv2D\n",
    "from keras.models import Model\n",
    "from keras.layers import Dense, Conv1D, Flatten\n",
    "from keras.models import model_from_json\n",
    "from keras.models import Sequential\n",
    "from keras.wrappers.scikit_learn import KerasRegressor\n",
    "from keras.layers.convolutional import Convolution2D\n",
    "from keras.layers.core import Flatten, Dense, Activation\n",
    "from keras.utils import np_utils\n",
    "from keras.layers import concatenate\n",
    "\n",
    "import sklearn.metrics as sm\n",
    "from sklearn.model_selection import train_test_split\n",
    "from sklearn.model_selection import cross_val_score\n",
    "from sklearn.model_selection import KFold\n",
    "from sklearn.metrics import mean_squared_error\n",
    "from sklearn.metrics import mean_absolute_error\n",
    "from sklearn.metrics import classification_report\n",
    "from sklearn.metrics import accuracy_score\n",
    "from sklearn.metrics import precision_score\n",
    "from sklearn.metrics import confusion_matrix\n",
    "from sklearn.metrics import f1_score\n",
    "from sklearn.metrics import r2_score\n",
    "from sklearn import metrics\n",
    "\n",
    "import tensorflow as tf\n",
    "from tensorflow.keras import datasets, layers, models\n",
    "\n",
    "import matplotlib.pyplot as plt\n",
    "import pickle\n",
    "from multiprocessing import Queue\n",
    "from h5py import File\n",
    "\n",
    "import xgboost as xgb\n",
    "from bayes_opt import BayesianOptimization\n",
    "import os\n",
    "import ast \n",
    "from itertools import chain\n",
    "import cv2\n",
    "from tqdm import tqdm"
   ]
  },
  {
   "cell_type": "markdown",
   "metadata": {},
   "source": [
    " # Loading & Preprocessing"
   ]
  },
  {
   "cell_type": "code",
   "execution_count": 254,
   "metadata": {},
   "outputs": [],
   "source": [
    "data = load('/Users/ipsitapraharaj/Desktop/CERN/histos_tba.20.npz')\n",
    "lst = data.files\n",
    "di = []\n",
    "for item in lst:\n",
    "    di.append(data[item])"
   ]
  },
  {
   "cell_type": "code",
   "execution_count": 255,
   "metadata": {},
   "outputs": [],
   "source": [
    "orig_data = pd.DataFrame(di[0])\n",
    "orig_data['y'] = pd.DataFrame(di[1])[0]\n",
    "data = pd.DataFrame(di[0])"
   ]
  },
  {
   "cell_type": "markdown",
   "metadata": {},
   "source": [
    "Pre- processing Removing unwanted columns and NaN rows\n",
    "& Bining of absolute values of pt"
   ]
  },
  {
   "cell_type": "code",
   "execution_count": 256,
   "metadata": {},
   "outputs": [],
   "source": [
    "col = list(filter(lambda x: x%12<5, list(range(84))))\n",
    "col = list(filter(lambda x: (x-1)%12!=0, col))\n",
    "col = sorted(list(set(col).difference(list(range(36,47))+list(range(72,83)))))\n",
    "\n",
    "data = pd.concat([data[col],orig_data.iloc[:,-4:]],axis=1)\n",
    "data = data.dropna()\n",
    "\n",
    "data['label'] = abs(1/data['y'])\n",
    "bins = list(range(0,120))\n",
    "labels = list(range(len(bins)-1))\n",
    "data['label'] = pd.cut(data['label'], bins=bins, labels=labels)\n",
    "data = data.reset_index(drop=True)\n",
    "\n",
    "X, y = data.iloc[:,:-2],(data.iloc[:,-2])\n",
    "X = (X-X.min())/(X.max()-X.min())"
   ]
  },
  {
   "cell_type": "code",
   "execution_count": 257,
   "metadata": {},
   "outputs": [],
   "source": [
    "e = np.digitize(1/(abs(y)),bins)\n",
    "X_train, X_test, y_train, y_test = train_test_split(X, y, test_size=0.2, random_state=123, stratify = e )"
   ]
  },
  {
   "cell_type": "markdown",
   "metadata": {},
   "source": [
    "preparing normalized dataset for model"
   ]
  },
  {
   "cell_type": "code",
   "execution_count": 258,
   "metadata": {
    "colab": {
     "base_uri": "https://localhost:8080/",
     "height": 296
    },
    "colab_type": "code",
    "id": "Y9Wg5POubKi3",
    "outputId": "64062f02-d294-4539-d188-6763238b1539",
    "scrolled": false
   },
   "outputs": [
    {
     "data": {
      "text/plain": [
       "Text(0.5, 0, '1/pt values ')"
      ]
     },
     "execution_count": 258,
     "metadata": {},
     "output_type": "execute_result"
    },
    {
     "data": {
      "image/png": "[encoded data removed]",
      "text/plain": [
       "<Figure size 432x288 with 1 Axes>"
      ]
     },
     "metadata": {
      "needs_background": "light"
     },
     "output_type": "display_data"
    }
   ],
   "source": [
    "plt.hist(data['y'],color='red',edgecolor='black')\n",
    "plt.xlabel('1/pt values ')\n",
    "# for i in range(len(bins)-1):\n",
    "#     print(\"bin \"+ str(i)+\" ---> \"+ str(bins[i])+\" GeV to \"+str(bins[i+1])+\" GeV\")"
   ]
  },
  {
   "cell_type": "markdown",
   "metadata": {},
   "source": [
    " # XGB"
   ]
  },
  {
   "cell_type": "code",
   "execution_count": 259,
   "metadata": {},
   "outputs": [],
   "source": [
    "params = pd.read_csv('/Users/ipsitapraharaj/Desktop/CERN/params_20.csv', index_col = 0)\n",
    "params = params.loc[0,:].to_dict()\n",
    "params['max_depth'] = int(params['max_depth'])"
   ]
  },
  {
   "cell_type": "markdown",
   "metadata": {},
   "source": [
    "for binwise prediction "
   ]
  },
  {
   "cell_type": "code",
   "execution_count": 26,
   "metadata": {},
   "outputs": [],
   "source": [
    "def xgb_model(i):\n",
    "    \n",
    "    data_new = data[1/abs(data.y)>= bins[i]]\n",
    "    X_new, y_new = data_new.iloc[:,:-2],data_new.iloc[:,-2]\n",
    "    X_new = (X_new-X_new.min())/(X_new.max()-X_new.min())\n",
    "    \n",
    "    e = np.digitize(y_new,bins)\n",
    "    X_train, X_test, y_train, y_test = train_test_split(X_new, y_new, test_size=0.2, random_state=123, stratify = e )\n",
    "    dtrain = xgb.DMatrix(data=X_train,label=y_train)\n",
    "    dtest = xgb.DMatrix(data=X_test,label=y_test)\n",
    "\n",
    "    # Train a new model with the best parameters from the search\n",
    "    model2 = xgb.train(params, dtrain, num_boost_round=25)\n",
    "\n",
    "    # Predict on testing and training set\n",
    "    y_pred = model2.predict(dtest)\n",
    "    y_train_pred = model2.predict(dtrain)\n",
    "    \n",
    "    acc = round(accuracy_score(np.digitize(1/(abs(y_test)), bins), np.digitize(1/(abs(y_pred)), bins)),4)\n",
    "    mae = round(sm.mean_absolute_error(y_test, y_pred), 4)\n",
    "#     f1 = f1_score(np.digitize(1/(abs(y_test)), bins), np.digitize(1/(abs(y_pred[:,0])), bins), average=None)\n",
    "\n",
    "    return acc, mae, y_test, y_pred, y_train, y_train_pred"
   ]
  },
  {
   "cell_type": "code",
   "execution_count": 29,
   "metadata": {
    "scrolled": true
   },
   "outputs": [
    {
     "name": "stderr",
     "output_type": "stream",
     "text": [
      "  3%|▎         | 4/120 [03:23<1:32:22, 47.78s/it]<ipython-input-26-e01b9c4b165b>:19: RuntimeWarning: divide by zero encountered in true_divide\n",
      "  acc = round(accuracy_score(np.digitize(1/(abs(y_test)), bins), np.digitize(1/(abs(y_pred)), bins)),4)\n",
      " 82%|████████▎ | 99/120 [08:55<00:17,  1.22it/s] <ipython-input-26-e01b9c4b165b>:19: RuntimeWarning: divide by zero encountered in true_divide\n",
      "  acc = round(accuracy_score(np.digitize(1/(abs(y_test)), bins), np.digitize(1/(abs(y_pred)), bins)),4)\n",
      " 98%|█████████▊| 117/120 [09:07<00:01,  1.60it/s]<ipython-input-26-e01b9c4b165b>:19: RuntimeWarning: divide by zero encountered in true_divide\n",
      "  acc = round(accuracy_score(np.digitize(1/(abs(y_test)), bins), np.digitize(1/(abs(y_pred)), bins)),4)\n",
      "100%|██████████| 120/120 [09:10<00:00,  4.59s/it]\n"
     ]
    }
   ],
   "source": [
    "xgb_results = np.array([xgb_model(i) for i in tqdm(range(len(bins)))])"
   ]
  },
  {
   "cell_type": "code",
   "execution_count": 209,
   "metadata": {},
   "outputs": [
    {
     "data": {
      "text/html": [
       "<div>\n",
       "<style scoped>\n",
       "    .dataframe tbody tr th:only-of-type {\n",
       "        vertical-align: middle;\n",
       "    }\n",
       "\n",
       "    .dataframe tbody tr th {\n",
       "        vertical-align: top;\n",
       "    }\n",
       "\n",
       "    .dataframe thead th {\n",
       "        text-align: right;\n",
       "    }\n",
       "</style>\n",
       "<table border=\"1\" class=\"dataframe\">\n",
       "  <thead>\n",
       "    <tr style=\"text-align: right;\">\n",
       "      <th></th>\n",
       "      <th>0</th>\n",
       "      <th>1</th>\n",
       "      <th>2</th>\n",
       "      <th>3</th>\n",
       "      <th>4</th>\n",
       "      <th>5</th>\n",
       "    </tr>\n",
       "  </thead>\n",
       "  <tbody>\n",
       "    <tr>\n",
       "      <th>0</th>\n",
       "      <td>0.3732</td>\n",
       "      <td>0.0438</td>\n",
       "      <td>51404      0.233459\n",
       "662673    -0.420489\n",
       "206865...</td>\n",
       "      <td>[0.26055324, -0.40712076, -0.42893374, 0.00218...</td>\n",
       "      <td>779758     0.029018\n",
       "814439     0.001726\n",
       "816147...</td>\n",
       "      <td>[-0.007893503, -0.049520314, 0.25705037, 0.435...</td>\n",
       "    </tr>\n",
       "    <tr>\n",
       "      <th>1</th>\n",
       "      <td>0.3732</td>\n",
       "      <td>0.0438</td>\n",
       "      <td>51404      0.233459\n",
       "662673    -0.420489\n",
       "206865...</td>\n",
       "      <td>[0.26055324, -0.40712076, -0.42893374, 0.00218...</td>\n",
       "      <td>779758     0.029018\n",
       "814439     0.001726\n",
       "816147...</td>\n",
       "      <td>[-0.007893503, -0.049520314, 0.25705037, 0.435...</td>\n",
       "    </tr>\n",
       "    <tr>\n",
       "      <th>2</th>\n",
       "      <td>0.3732</td>\n",
       "      <td>0.0438</td>\n",
       "      <td>51404      0.233459\n",
       "662673    -0.420489\n",
       "206865...</td>\n",
       "      <td>[0.26055324, -0.40712076, -0.42893374, 0.00218...</td>\n",
       "      <td>779758     0.029018\n",
       "814439     0.001726\n",
       "816147...</td>\n",
       "      <td>[-0.007893503, -0.049520314, 0.25705037, 0.435...</td>\n",
       "    </tr>\n",
       "    <tr>\n",
       "      <th>3</th>\n",
       "      <td>0.3042</td>\n",
       "      <td>0.0387</td>\n",
       "      <td>802234    -0.091832\n",
       "485274     0.237037\n",
       "854538...</td>\n",
       "      <td>[-0.15305829, 0.2763192, -0.23017609, 0.258514...</td>\n",
       "      <td>724702    0.157713\n",
       "613325   -0.010821\n",
       "502314  ...</td>\n",
       "      <td>[0.14246982, 0.0029364228, 0.00565356, 0.10434...</td>\n",
       "    </tr>\n",
       "    <tr>\n",
       "      <th>4</th>\n",
       "      <td>0.2301</td>\n",
       "      <td>0.0349</td>\n",
       "      <td>1063161    0.032580\n",
       "198759     0.123749\n",
       "746672...</td>\n",
       "      <td>[0.002265364, 0.14961705, -0.18605405, 0.20867...</td>\n",
       "      <td>257652    -0.129023\n",
       "1097829   -0.145961\n",
       "803094...</td>\n",
       "      <td>[-0.08747846, -0.1450594, 0.14813632, 0.005217...</td>\n",
       "    </tr>\n",
       "    <tr>\n",
       "      <th>...</th>\n",
       "      <td>...</td>\n",
       "      <td>...</td>\n",
       "      <td>...</td>\n",
       "      <td>...</td>\n",
       "      <td>...</td>\n",
       "      <td>...</td>\n",
       "    </tr>\n",
       "    <tr>\n",
       "      <th>115</th>\n",
       "      <td>0.9687</td>\n",
       "      <td>0.0044</td>\n",
       "      <td>1024145    0.008312\n",
       "530984     0.000768\n",
       "987068...</td>\n",
       "      <td>[6.401539e-05, -0.0009562969, 0.0005669594, 0....</td>\n",
       "      <td>1107283   -0.000467\n",
       "1023436    0.001048\n",
       "112431...</td>\n",
       "      <td>[6.401539e-05, 0.00017109513, -5.1140785e-05, ...</td>\n",
       "    </tr>\n",
       "    <tr>\n",
       "      <th>116</th>\n",
       "      <td>0.9742</td>\n",
       "      <td>0.0044</td>\n",
       "      <td>865569     0.005334\n",
       "396956     0.006277\n",
       "300183...</td>\n",
       "      <td>[0.00083076954, 0.000106692314, 3.489852e-05, ...</td>\n",
       "      <td>989378     0.002318\n",
       "75186      0.007075\n",
       "785888...</td>\n",
       "      <td>[0.0014711618, 3.489852e-05, 9.089708e-06, 0.0...</td>\n",
       "    </tr>\n",
       "    <tr>\n",
       "      <th>117</th>\n",
       "      <td>0.9867</td>\n",
       "      <td>0.0042</td>\n",
       "      <td>1129235   -0.004569\n",
       "381841     0.007669\n",
       "112984...</td>\n",
       "      <td>[3.3795834e-05, 3.3795834e-05, -1.5318394e-05,...</td>\n",
       "      <td>618378     0.007829\n",
       "105339    -0.005719\n",
       "883912...</td>\n",
       "      <td>[-0.00017249584, -8.34465e-05, 0.00044319034, ...</td>\n",
       "    </tr>\n",
       "    <tr>\n",
       "      <th>118</th>\n",
       "      <td>0.9924</td>\n",
       "      <td>0.0042</td>\n",
       "      <td>528501   -0.008168\n",
       "298161   -0.001166\n",
       "198177  ...</td>\n",
       "      <td>[0.00055518746, -0.00015413761, 0.00048801303,...</td>\n",
       "      <td>314302     0.005520\n",
       "105894     0.003689\n",
       "534571...</td>\n",
       "      <td>[0.00054219365, -1.2278557e-05, -0.0001320839,...</td>\n",
       "    </tr>\n",
       "    <tr>\n",
       "      <th>119</th>\n",
       "      <td>1</td>\n",
       "      <td>0.0042</td>\n",
       "      <td>205911    -0.003595\n",
       "680076     0.006368\n",
       "112900...</td>\n",
       "      <td>[0.00014197826, 9.468198e-05, 0.0010133982, 0....</td>\n",
       "      <td>642511     0.008187\n",
       "341157     0.005974\n",
       "730759...</td>\n",
       "      <td>[0.0010094643, -6.1035156e-05, 0.00042909384, ...</td>\n",
       "    </tr>\n",
       "  </tbody>\n",
       "</table>\n",
       "<p>120 rows × 6 columns</p>\n",
       "</div>"
      ],
      "text/plain": [
       "          0       1                                                  2  \\\n",
       "0    0.3732  0.0438  51404      0.233459\n",
       "662673    -0.420489\n",
       "206865...   \n",
       "1    0.3732  0.0438  51404      0.233459\n",
       "662673    -0.420489\n",
       "206865...   \n",
       "2    0.3732  0.0438  51404      0.233459\n",
       "662673    -0.420489\n",
       "206865...   \n",
       "3    0.3042  0.0387  802234    -0.091832\n",
       "485274     0.237037\n",
       "854538...   \n",
       "4    0.2301  0.0349  1063161    0.032580\n",
       "198759     0.123749\n",
       "746672...   \n",
       "..      ...     ...                                                ...   \n",
       "115  0.9687  0.0044  1024145    0.008312\n",
       "530984     0.000768\n",
       "987068...   \n",
       "116  0.9742  0.0044  865569     0.005334\n",
       "396956     0.006277\n",
       "300183...   \n",
       "117  0.9867  0.0042  1129235   -0.004569\n",
       "381841     0.007669\n",
       "112984...   \n",
       "118  0.9924  0.0042  528501   -0.008168\n",
       "298161   -0.001166\n",
       "198177  ...   \n",
       "119       1  0.0042  205911    -0.003595\n",
       "680076     0.006368\n",
       "112900...   \n",
       "\n",
       "                                                     3  \\\n",
       "0    [0.26055324, -0.40712076, -0.42893374, 0.00218...   \n",
       "1    [0.26055324, -0.40712076, -0.42893374, 0.00218...   \n",
       "2    [0.26055324, -0.40712076, -0.42893374, 0.00218...   \n",
       "3    [-0.15305829, 0.2763192, -0.23017609, 0.258514...   \n",
       "4    [0.002265364, 0.14961705, -0.18605405, 0.20867...   \n",
       "..                                                 ...   \n",
       "115  [6.401539e-05, -0.0009562969, 0.0005669594, 0....   \n",
       "116  [0.00083076954, 0.000106692314, 3.489852e-05, ...   \n",
       "117  [3.3795834e-05, 3.3795834e-05, -1.5318394e-05,...   \n",
       "118  [0.00055518746, -0.00015413761, 0.00048801303,...   \n",
       "119  [0.00014197826, 9.468198e-05, 0.0010133982, 0....   \n",
       "\n",
       "                                                     4  \\\n",
       "0    779758     0.029018\n",
       "814439     0.001726\n",
       "816147...   \n",
       "1    779758     0.029018\n",
       "814439     0.001726\n",
       "816147...   \n",
       "2    779758     0.029018\n",
       "814439     0.001726\n",
       "816147...   \n",
       "3    724702    0.157713\n",
       "613325   -0.010821\n",
       "502314  ...   \n",
       "4    257652    -0.129023\n",
       "1097829   -0.145961\n",
       "803094...   \n",
       "..                                                 ...   \n",
       "115  1107283   -0.000467\n",
       "1023436    0.001048\n",
       "112431...   \n",
       "116  989378     0.002318\n",
       "75186      0.007075\n",
       "785888...   \n",
       "117  618378     0.007829\n",
       "105339    -0.005719\n",
       "883912...   \n",
       "118  314302     0.005520\n",
       "105894     0.003689\n",
       "534571...   \n",
       "119  642511     0.008187\n",
       "341157     0.005974\n",
       "730759...   \n",
       "\n",
       "                                                     5  \n",
       "0    [-0.007893503, -0.049520314, 0.25705037, 0.435...  \n",
       "1    [-0.007893503, -0.049520314, 0.25705037, 0.435...  \n",
       "2    [-0.007893503, -0.049520314, 0.25705037, 0.435...  \n",
       "3    [0.14246982, 0.0029364228, 0.00565356, 0.10434...  \n",
       "4    [-0.08747846, -0.1450594, 0.14813632, 0.005217...  \n",
       "..                                                 ...  \n",
       "115  [6.401539e-05, 0.00017109513, -5.1140785e-05, ...  \n",
       "116  [0.0014711618, 3.489852e-05, 9.089708e-06, 0.0...  \n",
       "117  [-0.00017249584, -8.34465e-05, 0.00044319034, ...  \n",
       "118  [0.00054219365, -1.2278557e-05, -0.0001320839,...  \n",
       "119  [0.0010094643, -6.1035156e-05, 0.00042909384, ...  \n",
       "\n",
       "[120 rows x 6 columns]"
      ]
     },
     "execution_count": 209,
     "metadata": {},
     "output_type": "execute_result"
    }
   ],
   "source": [
    "pd.DataFrame(xgb_results)"
   ]
  },
  {
   "cell_type": "code",
   "execution_count": 121,
   "metadata": {
    "scrolled": true
   },
   "outputs": [
    {
     "data": {
      "text/plain": [
       "Text(0.5, 0, 'acc for 1/pt values predicted')"
      ]
     },
     "execution_count": 121,
     "metadata": {},
     "output_type": "execute_result"
    },
    {
     "data": {
      "image/png": "[encoded data removed]",
      "text/plain": [
       "<Figure size 432x288 with 1 Axes>"
      ]
     },
     "metadata": {
      "needs_background": "light"
     },
     "output_type": "display_data"
    }
   ],
   "source": [
    "plt.plot(np.array(pd.DataFrame(xgb_results)[0])) #acc\n",
    "plt.xlabel('acc for 1/pt values predicted')"
   ]
  },
  {
   "cell_type": "code",
   "execution_count": 120,
   "metadata": {},
   "outputs": [
    {
     "data": {
      "text/plain": [
       "Text(0.5, 0, 'Mae for 1/pt values predicted')"
      ]
     },
     "execution_count": 120,
     "metadata": {},
     "output_type": "execute_result"
    },
    {
     "data": {
      "image/png": "[encoded data removed]",
      "text/plain": [
       "<Figure size 432x288 with 1 Axes>"
      ]
     },
     "metadata": {
      "needs_background": "light"
     },
     "output_type": "display_data"
    }
   ],
   "source": [
    "plt.plot(np.array(pd.DataFrame(xgb_results)[1])) #mae\n",
    "plt.xlabel('Mae for 1/pt values predicted')"
   ]
  },
  {
   "cell_type": "markdown",
   "metadata": {},
   "source": [
    "Run this to see the data above"
   ]
  },
  {
   "cell_type": "code",
   "execution_count": 106,
   "metadata": {},
   "outputs": [],
   "source": [
    "np.savez('/Users/ipsitapraharaj/Desktop/CERN/xgb_results', acc= xgb_results[:,0], mae = xgb_results[:,1],y_test = xgb_results[:,2],y_pred= xgb_results[:,3],y_train= xgb_results[:,4],y_train_pred= xgb_results[:,5]) # save\n",
    "# new_num_arr = np.load('/Users/ipsitapraharaj/Desktop/CERN/data.npz') # load"
   ]
  },
  {
   "cell_type": "code",
   "execution_count": 107,
   "metadata": {
    "collapsed": true
   },
   "outputs": [
    {
     "name": "stdout",
     "output_type": "stream",
     "text": [
      "Load arrays from the 'temp_arra.npz' file:\n",
      "[0.3732 0.3732 0.3732 0.3042 0.2301 0.176 0.1355 0.1136 0.1016 0.0926\n",
      " 0.085 0.081 0.0824 0.0847 0.09 0.093 0.1008 0.107 0.1142 0.1203 0.1267\n",
      " 0.1371 0.1429 0.144 0.1597 0.1639 0.1739 0.1854 0.1925 0.2054 0.2112\n",
      " 0.226 0.2414 0.2472 0.2673 0.2757 0.2803 0.2959 0.2977 0.3148 0.3261\n",
      " 0.3323 0.3385 0.3517 0.3655 0.3723 0.3792 0.391 0.4039 0.4069 0.4174\n",
      " 0.4209 0.4281 0.4375 0.4566 0.4622 0.4669 0.4756 0.4743 0.4893 0.4995\n",
      " 0.5093 0.5255 0.5265 0.5379 0.5449 0.5494 0.5567 0.574 0.5793 0.5877\n",
      " 0.5835 0.6009 0.6189 0.626 0.632 0.6305 0.6447 0.6654 0.6489 0.6751\n",
      " 0.6808 0.6835 0.6988 0.7046 0.7141 0.7205 0.7361 0.741 0.7514 0.7509\n",
      " 0.7611 0.7657 0.7745 0.7898 0.7956 0.8045 0.8147 0.8228 0.827 0.8342\n",
      " 0.847 0.8521 0.8634 0.8716 0.8844 0.8898 0.8986 0.9078 0.9103 0.9127\n",
      " 0.9359 0.9428 0.9508 0.9568 0.9687 0.9742 0.9867 0.9924 1.0]\n",
      "[0.0438 0.0438 0.0438 0.0387 0.0349 0.0331 0.0318 0.0311 0.0307 0.03\n",
      " 0.0295 0.0282 0.0279 0.0266 0.0252 0.0243 0.0236 0.0227 0.0217 0.0209\n",
      " 0.0202 0.0194 0.0189 0.0182 0.0177 0.017 0.0167 0.0162 0.0157 0.0152\n",
      " 0.0151 0.0145 0.0141 0.0137 0.0133 0.013 0.0127 0.0124 0.0122 0.0119\n",
      " 0.0117 0.0115 0.0112 0.0109 0.0106 0.0105 0.0103 0.01 0.0098 0.0097\n",
      " 0.0095 0.0095 0.0093 0.0091 0.0089 0.0087 0.0086 0.0084 0.0084 0.0082\n",
      " 0.0081 0.008 0.0078 0.0077 0.0076 0.0075 0.0073 0.0073 0.0071 0.0071\n",
      " 0.007 0.0069 0.0068 0.0066 0.0066 0.0065 0.0065 0.0064 0.0063 0.0063\n",
      " 0.0062 0.0061 0.006 0.0059 0.0059 0.0058 0.0057 0.0057 0.0056 0.0056\n",
      " 0.0055 0.0054 0.0054 0.0054 0.0053 0.0052 0.0052 0.0051 0.0051 0.005\n",
      " 0.0051 0.005 0.0049 0.0048 0.0048 0.0047 0.0047 0.0046 0.0046 0.0046\n",
      " 0.0046 0.0045 0.0045 0.0044 0.0044 0.0044 0.0044 0.0042 0.0042 0.0042]\n"
     ]
    }
   ],
   "source": [
    "# np.savez('temp_arra.npz', x=x, y=y)\n",
    "print(\"Load arrays from the 'temp_arra.npz' file:\")\n",
    "with np.load('/Users/ipsitapraharaj/Desktop/CERN/xgb_results.npz',allow_pickle=True) as dats:\n",
    "    acc = dats['acc']\n",
    "    mae = dats['mae']\n",
    "    y_test = dats['y_test']\n",
    "    y_pred = dats['y_pred']\n",
    "    y_train = dats['y_train']\n",
    "    y_train_pred = dats['y_train_pred']\n",
    "    print(acc)\n",
    "    print(mae)"
   ]
  },
  {
   "cell_type": "markdown",
   "metadata": {},
   "source": [
    "# XGB (pt)"
   ]
  },
  {
   "cell_type": "code",
   "execution_count": 109,
   "metadata": {},
   "outputs": [],
   "source": [
    "def xgb_model_pt(i):\n",
    "    \n",
    "    data_new = data[1/abs(data.y)>= bins[i]]\n",
    "    X_new, y_new = data_new.iloc[:,:-2],1/(data_new.iloc[:,-2])\n",
    "    X_new = (X_new-X_new.min())/(X_new.max()-X_new.min())\n",
    "    \n",
    "    e = np.digitize(y_new,bins)\n",
    "    X_train, X_test, y_train, y_test = train_test_split(X_new, y_new, test_size=0.2, random_state=123, stratify = e )\n",
    "    dtrain = xgb.DMatrix(data=X_train,label=y_train)\n",
    "    dtest = xgb.DMatrix(data=X_test,label=y_test)\n",
    "\n",
    "    # Train a new model with the best parameters from the search\n",
    "    model2 = xgb.train(params, dtrain, num_boost_round=25)\n",
    "\n",
    "    # Predict on testing and training set\n",
    "    y_pred = model2.predict(dtest)\n",
    "    y_train_pred = model2.predict(dtrain)\n",
    "    \n",
    "    acc = round(accuracy_score(np.digitize(1/(abs(y_test)), bins), np.digitize(1/(abs(y_pred)), bins)),4)\n",
    "    mae = round(sm.mean_absolute_error(y_test, y_pred), 4)\n",
    "    \n",
    "    return acc, mae, y_test, y_pred, y_train, y_train_pred"
   ]
  },
  {
   "cell_type": "code",
   "execution_count": 110,
   "metadata": {
    "scrolled": false
   },
   "outputs": [
    {
     "name": "stderr",
     "output_type": "stream",
     "text": [
      "100%|██████████| 120/120 [06:02<00:00,  3.02s/it]\n"
     ]
    }
   ],
   "source": [
    "xgb_results_pt = np.array([xgb_model_pt(i) for i in tqdm(range(len(bins)))])"
   ]
  },
  {
   "cell_type": "code",
   "execution_count": 118,
   "metadata": {
    "scrolled": true
   },
   "outputs": [
    {
     "name": "stderr",
     "output_type": "stream",
     "text": [
      "  0%|          | 0/1 [1:13:48<?, ?it/s]\n"
     ]
    },
    {
     "data": {
      "text/plain": [
       "Text(0.5, 0, 'Acc for pt values predicted')"
      ]
     },
     "execution_count": 118,
     "metadata": {},
     "output_type": "execute_result"
    },
    {
     "data": {
      "image/png": "[encoded data removed]",
      "text/plain": [
       "<Figure size 432x288 with 1 Axes>"
      ]
     },
     "metadata": {
      "needs_background": "light"
     },
     "output_type": "display_data"
    }
   ],
   "source": [
    "plt.plot(np.array(pd.DataFrame(xgb_results_pt)[0])) #acc\n",
    "plt.xlabel('Acc for pt values predicted')"
   ]
  },
  {
   "cell_type": "code",
   "execution_count": 119,
   "metadata": {},
   "outputs": [
    {
     "data": {
      "text/plain": [
       "Text(0.5, 0, 'Mae for pt values predicted')"
      ]
     },
     "execution_count": 119,
     "metadata": {},
     "output_type": "execute_result"
    },
    {
     "data": {
      "image/png": "[encoded data removed]",
      "text/plain": [
       "<Figure size 432x288 with 1 Axes>"
      ]
     },
     "metadata": {
      "needs_background": "light"
     },
     "output_type": "display_data"
    }
   ],
   "source": [
    "plt.plot(np.array(pd.DataFrame(xgb_results_pt)[1])) #mae\n",
    "plt.xlabel('Mae for pt values predicted')"
   ]
  },
  {
   "cell_type": "code",
   "execution_count": 113,
   "metadata": {},
   "outputs": [],
   "source": [
    "np.savez('/Users/ipsitapraharaj/Desktop/CERN/xgb_results_pt', acc= xgb_results_pt[:,0], mae = xgb_results_pt[:,1],y_test = xgb_results_pt[:,2],y_pred= xgb_results_pt[:,3],y_train= xgb_results_pt[:,4],y_train_pred= xgb_results_pt[:,5]) # save"
   ]
  },
  {
   "cell_type": "code",
   "execution_count": 114,
   "metadata": {
    "collapsed": true
   },
   "outputs": [
    {
     "name": "stdout",
     "output_type": "stream",
     "text": [
      "Load arrays from the 'temp_arra.npz' file:\n",
      "[0.8831 0.8831 0.8831 0.9404 0.8118 0.8035 0.7996 0.8505 0.9257 0.7879\n",
      " 0.7398 0.6444 0.7903 0.7126 0.7216 0.6941 0.7299 0.9016 0.7475 0.9685\n",
      " 0.5988 0.9397 0.7765 0.7613 0.8767 0.9621 0.8532 0.929 0.8895 0.8878\n",
      " 0.7338 0.7555 0.9528 0.8636 0.9027 0.7849 0.8505 0.9505 0.978 0.8919\n",
      " 0.7563 0.8227 0.9472 0.8455 0.799 0.9513 0.7918 0.8719 0.8954 0.963\n",
      " 0.9413 0.9047 0.878 0.9618 0.9946 0.955 0.9572 0.9959 0.9509 0.9557\n",
      " 0.9925 0.992 0.9611 0.9798 0.9038 0.9357 0.7125 0.9645 0.9477 0.9916\n",
      " 0.9711 0.9742 0.9653 0.9414 0.9532 0.9799 0.9492 0.9322 0.9535 0.9706\n",
      " 0.8929 0.9164 0.9529 0.8463 0.9616 0.9635 0.9388 0.9707 0.981 0.9117\n",
      " 0.9283 0.9819 0.9302 0.7984 0.9086 0.9608 0.9658 0.8802 0.9485 0.9733\n",
      " 0.9965 0.9154 0.9671 0.9969 0.9944 0.9639 0.9932 0.9954 0.9954 0.9896\n",
      " 0.8521 0.9521 0.9519 0.9065 0.9786 0.9391 0.9893 0.9857 0.9531 0.9351]\n",
      "[17.6599 17.6599 17.6599 21.9646 28.5044 34.2858 40.6487 48.3203 53.0768\n",
      " 60.5226 66.4323 71.9934 76.947 80.8467 88.2642 90.9666 96.138 104.0391\n",
      " 107.572 110.9645 119.8011 121.5519 124.478 130.1538 139.5347 145.2957\n",
      " 147.837 152.3737 158.7645 166.635 164.3514 167.2906 175.3921 180.3492\n",
      " 183.0167 190.1587 195.2796 199.851 194.8238 204.1509 213.8311 216.072\n",
      " 222.1167 219.9188 231.2163 235.4994 237.9725 248.0688 248.3245 250.0253\n",
      " 256.8292 258.1126 261.2014 271.0146 273.3725 282.9538 281.3208 289.3418\n",
      " 280.5834 287.3347 290.4134 306.436 310.8359 311.605 310.4456 298.5362\n",
      " 314.9701 315.0539 318.7983 321.1493 325.46 325.0082 341.7328 352.6845\n",
      " 354.5599 359.4013 361.046 358.822 362.0726 372.8472 377.1701 365.6467\n",
      " 373.757 384.6124 380.3932 393.71 393.7746 394.7438 407.036 407.8111\n",
      " 404.0671 421.8204 410.8195 426.093 420.5222 420.2094 417.2475 422.1244\n",
      " 431.7448 439.8757 440.5664 442.8993 454.2604 452.3754 452.4191 471.7894\n",
      " 471.813 481.938 470.3062 475.5213 467.6282 491.7492 482.6034 488.6164\n",
      " 488.3969 495.7226 504.0698 520.89 520.9664 497.339]\n"
     ]
    }
   ],
   "source": [
    "# np.savez('temp_arra.npz', x=x, y=y)\n",
    "print(\"Load arrays from the 'temp_arra.npz' file:\")\n",
    "with np.load('/Users/ipsitapraharaj/Desktop/CERN/xgb_results_pt.npz',allow_pickle=True) as dats:\n",
    "    acc = dats['acc']\n",
    "    mae = dats['mae']\n",
    "    y_test = dats['y_test']\n",
    "    y_pred = dats['y_pred']\n",
    "    y_train = dats['y_train']\n",
    "    y_train_pred = dats['y_train_pred']\n",
    "    print(acc)\n",
    "    print(mae)"
   ]
  },
  {
   "cell_type": "markdown",
   "metadata": {},
   "source": [
    " # CNN 1D\n",
    " Please download the model_cnn1.json & model_cnn1.h5 files to the local directory to run this model\n",
    " \n",
    " The results are displayed corresponding to each cell"
   ]
  },
  {
   "cell_type": "code",
   "execution_count": 267,
   "metadata": {},
   "outputs": [
    {
     "name": "stdout",
     "output_type": "stream",
     "text": [
      "Loaded model from disk\n"
     ]
    }
   ],
   "source": [
    "# load json and create model\n",
    "json_file = open('model_cnn1.json', 'r')\n",
    "loaded_model_json = json_file.read()\n",
    "json_file.close()\n",
    "loaded_model1 = model_from_json(loaded_model_json)\n",
    "# load weights into new model\n",
    "loaded_model1.load_weights(\"model_cnn1.h5\")\n",
    "print(\"Loaded model from disk\")\n",
    "loaded_model1.compile(loss='mae', optimizer='adam', metrics=['accuracy'])"
   ]
  },
  {
   "cell_type": "code",
   "execution_count": 268,
   "metadata": {},
   "outputs": [
    {
     "name": "stdout",
     "output_type": "stream",
     "text": [
      "Model: \"sequential_14\"\n",
      "_________________________________________________________________\n",
      "Layer (type)                 Output Shape              Param #   \n",
      "=================================================================\n",
      "conv1d_21 (Conv1D)           (None, 18, 64)            192       \n",
      "_________________________________________________________________\n",
      "conv1d_22 (Conv1D)           (None, 17, 64)            8256      \n",
      "_________________________________________________________________\n",
      "conv1d_23 (Conv1D)           (None, 16, 64)            8256      \n",
      "_________________________________________________________________\n",
      "flatten_7 (Flatten)          (None, 1024)              0         \n",
      "_________________________________________________________________\n",
      "dense_56 (Dense)             (None, 1)                 1025      \n",
      "=================================================================\n",
      "Total params: 17,729\n",
      "Trainable params: 17,729\n",
      "Non-trainable params: 0\n",
      "_________________________________________________________________\n"
     ]
    }
   ],
   "source": [
    "loaded_model1.summary()"
   ]
  },
  {
   "cell_type": "code",
   "execution_count": 269,
   "metadata": {
    "scrolled": true
   },
   "outputs": [],
   "source": [
    "# x = X.to_numpy().reshape(X.to_numpy().shape[0], X.to_numpy().shape[1], 1)\n",
    "# print(x.shape)\n",
    "# x = np.nan_to_num(x)\n",
    "# X_train, X_test, y_train, y_test = train_test_split(x, y, test_size=0.2, random_state=123)\n",
    "col1 = [i for i in data.columns if i not in list(range(48,59))]"
   ]
  },
  {
   "cell_type": "code",
   "execution_count": null,
   "metadata": {},
   "outputs": [],
   "source": [
    "data_new = data[1/abs(data.y)>= bins[i]]\n",
    "data_new = data[col1]\n",
    "X_new, y_new = data_new.iloc[:,:-2],1/(data_new.iloc[:,-2])\n",
    "X_new = (X_new-X_new.min())/(X_new.max()-X_new.min())\n",
    "\n",
    "x = X_new.to_numpy().reshape(X_new.to_numpy().shape[0], X_new.to_numpy().shape[1], 1)\n",
    "print(x.shape)\n",
    "x = np.nan_to_num(x)\n",
    "\n",
    "e = np.digitize(y_new,bins)\n",
    "X_train, X_test, y_train, y_test = train_test_split(x, y_new, test_size=0.2, random_state=123, stratify = e )\n",
    "\n",
    "#     Predict on testing and training set\n",
    "y_pred = loaded_model1.predict(X_test)\n",
    "y_train_pred = loaded_model1.predict(X_train)\n",
    "\n",
    "\n",
    "acc = round(accuracy_score(np.digitize(1/(abs(y_test)), bins), np.digitize(1/(abs(y_pred[:,0])), bins)),4)\n",
    "mae = round(sm.mean_absolute_error(y_test, y_pred[:,0]), 4)"
   ]
  },
  {
   "cell_type": "code",
   "execution_count": 274,
   "metadata": {},
   "outputs": [],
   "source": [
    "def cnn1_model(i):\n",
    "    \n",
    "    data_new = data[1/abs(data.y)>= bins[i]]\n",
    "    data_new = data[col1]\n",
    "    X_new, y_new = data_new.iloc[:,:-2],1/(data_new.iloc[:,-2])\n",
    "    X_new = (X_new-X_new.min())/(X_new.max()-X_new.min())\n",
    "    \n",
    "    x = X_new.to_numpy().reshape(X_new.to_numpy().shape[0], X_new.to_numpy().shape[1], 1)\n",
    "    print(x.shape)\n",
    "    x = np.nan_to_num(x)\n",
    "    \n",
    "    e = np.digitize(y_new,bins)\n",
    "    X_train, X_test, y_train, y_test = train_test_split(x, y_new, test_size=0.2, random_state=123, stratify = e )\n",
    "\n",
    "#     Predict on testing and training set\n",
    "    y_pred = loaded_model1.predict(X_test)\n",
    "    y_train_pred = loaded_model1.predict(X_train)\n",
    "    \n",
    "    \n",
    "    acc = round(accuracy_score(np.digitize(1/(abs(y_test)), bins), np.digitize(1/(abs(y_pred[:,0])), bins)),4)\n",
    "    mae = sm.mean_absolute_error(y_test, y_pred[:,0])\n",
    "\n",
    "\n",
    "    return acc, mae,  y_test, y_pred, y_train, y_train_pred\n",
    "#     return y_test, y_pred, y_train, y_train_pred\n"
   ]
  },
  {
   "cell_type": "code",
   "execution_count": 275,
   "metadata": {
    "scrolled": true
   },
   "outputs": [
    {
     "name": "stderr",
     "output_type": "stream",
     "text": [
      "\n",
      "  0%|          | 0/2 [00:00<?, ?it/s]\u001b[A"
     ]
    },
    {
     "name": "stdout",
     "output_type": "stream",
     "text": [
      "(1179356, 19, 1)\n"
     ]
    },
    {
     "name": "stderr",
     "output_type": "stream",
     "text": [
      "  0%|          | 0/2 [48:19<?, ?it/s]\n",
      "  0%|          | 0/2 [51:18<?, ?it/s]\n",
      "<ipython-input-274-af1bd2197e91>:20: RuntimeWarning: divide by zero encountered in true_divide\n",
      "  acc = round(accuracy_score(np.digitize(1/(abs(y_test)), bins), np.digitize(1/(abs(y_pred[:,0])), bins)),4)\n",
      "\n",
      " 50%|█████     | 1/2 [00:50<00:50, 50.64s/it]\u001b[A"
     ]
    },
    {
     "name": "stdout",
     "output_type": "stream",
     "text": [
      "(1179356, 19, 1)\n"
     ]
    },
    {
     "name": "stderr",
     "output_type": "stream",
     "text": [
      "<ipython-input-274-af1bd2197e91>:20: RuntimeWarning: divide by zero encountered in true_divide\n",
      "  acc = round(accuracy_score(np.digitize(1/(abs(y_test)), bins), np.digitize(1/(abs(y_pred[:,0])), bins)),4)\n",
      "\n",
      "100%|██████████| 2/2 [01:39<00:00, 49.72s/it]\u001b[A\n"
     ]
    }
   ],
   "source": [
    "cnn1_results = np.array([cnn1_model(i) for i in tqdm(range(len(bins[5:7])))])"
   ]
  },
  {
   "cell_type": "markdown",
   "metadata": {},
   "source": [
    "# CNN 1d (predicting Pt)"
   ]
  },
  {
   "cell_type": "code",
   "execution_count": 245,
   "metadata": {},
   "outputs": [],
   "source": [
    "def cnn1_model_pt(i):\n",
    "    \n",
    "    \n",
    "    data_new = data[1/abs(data.y)>= bins[i]]\n",
    "    data_new = data[col1]\n",
    "    X_new, y_new = data_new.iloc[:,:-2],1/abs(data_new.iloc[:,-2])\n",
    "    X_new = (X_new-X_new.min())/(X_new.max()-X_new.min())\n",
    "    \n",
    "    x = X_new.to_numpy().reshape(X_new.to_numpy().shape[0], X_new.to_numpy().shape[1], 1)\n",
    "    print(x.shape)\n",
    "    x = np.nan_to_num(x)\n",
    "    \n",
    "    e = np.digitize(y_new,bins)\n",
    "    X_train, X_test, y_train, y_test = train_test_split(x, y_new, test_size=0.2, random_state=123, stratify = e )\n",
    "\n",
    "    # Predict on testing and training set\n",
    "    y_pred = loaded_model1.predict(X_test)\n",
    "    y_train_pred = loaded_model1.predict(X_train)\n",
    "    \n",
    "    acc = round(accuracy_score(np.digitize(1/(abs(y_test)), bins), np.digitize(1/(abs(y_pred[:,0])), bins)),4)\n",
    "    mae = round(sm.mean_absolute_error(y_test, y_pred[:,0]), 4)\n",
    "    f1 = f1_score(np.digitize(1/(abs(y_test)), bins), np.digitize(1/(abs(y_pred[:,0])), bins), average='weighted')\n",
    "\n",
    "\n",
    "    return acc, mae, f1,  y_test, y_pred, y_train, y_train_pred\n"
   ]
  },
  {
   "cell_type": "code",
   "execution_count": null,
   "metadata": {
    "collapsed": true
   },
   "outputs": [
    {
     "name": "stderr",
     "output_type": "stream",
     "text": [
      "\n",
      "  0%|          | 0/116 [00:00<?, ?it/s]\u001b[A<ipython-input-37-2b6fcfb9c8c0>:19: RuntimeWarning: divide by zero encountered in true_divide\n",
      "  acc = round(accuracy_score(np.digitize(1/(abs(y_test)), bins), np.digitize(1/(abs(y_pred[:,0])), bins)),4)\n",
      "<ipython-input-37-2b6fcfb9c8c0>:21: RuntimeWarning: divide by zero encountered in true_divide\n",
      "  f1 = f1_score(np.digitize(1/(abs(y_test)), bins), np.digitize(1/(abs(y_pred[:,0])), bins), average='weighted')\n",
      "\n",
      "  1%|          | 1/116 [00:55<1:45:42, 55.16s/it]\u001b[A<ipython-input-37-2b6fcfb9c8c0>:19: RuntimeWarning: divide by zero encountered in true_divide\n",
      "  acc = round(accuracy_score(np.digitize(1/(abs(y_test)), bins), np.digitize(1/(abs(y_pred[:,0])), bins)),4)\n",
      "<ipython-input-37-2b6fcfb9c8c0>:21: RuntimeWarning: divide by zero encountered in true_divide\n",
      "  f1 = f1_score(np.digitize(1/(abs(y_test)), bins), np.digitize(1/(abs(y_pred[:,0])), bins), average='weighted')\n",
      "\n",
      "  2%|▏         | 2/116 [01:46<1:42:46, 54.09s/it]\u001b[A<ipython-input-37-2b6fcfb9c8c0>:19: RuntimeWarning: divide by zero encountered in true_divide\n",
      "  acc = round(accuracy_score(np.digitize(1/(abs(y_test)), bins), np.digitize(1/(abs(y_pred[:,0])), bins)),4)\n",
      "<ipython-input-37-2b6fcfb9c8c0>:21: RuntimeWarning: divide by zero encountered in true_divide\n",
      "  f1 = f1_score(np.digitize(1/(abs(y_test)), bins), np.digitize(1/(abs(y_pred[:,0])), bins), average='weighted')\n",
      "\n",
      "  3%|▎         | 3/116 [02:35<1:39:01, 52.58s/it]\u001b[A"
     ]
    }
   ],
   "source": [
    "cnn1_results_pt = np.array([cnn1_model_pt(i) for i in tqdm(range(len(bins[5:])))])"
   ]
  },
  {
   "cell_type": "code",
   "execution_count": null,
   "metadata": {
    "colab": {
     "base_uri": "https://localhost:8080/",
     "height": 296
    },
    "colab_type": "code",
    "id": "Y9Wg5POubKi3",
    "outputId": "64062f02-d294-4539-d188-6763238b1539",
    "scrolled": false
   },
   "outputs": [],
   "source": [
    "pd.DataFrame(cnn1_results_pt)"
   ]
  },
  {
   "cell_type": "code",
   "execution_count": null,
   "metadata": {
    "scrolled": true
   },
   "outputs": [],
   "source": [
    "plt.plot(np.array(pd.DataFrame(cnn1_results_pt)[1]))\n",
    "plt.xlabel('Mae for pt values predicted')"
   ]
  },
  {
   "cell_type": "markdown",
   "metadata": {},
   "source": [
    "# Ann"
   ]
  },
  {
   "cell_type": "code",
   "execution_count": 122,
   "metadata": {},
   "outputs": [
    {
     "name": "stdout",
     "output_type": "stream",
     "text": [
      "Loaded model from disk\n"
     ]
    }
   ],
   "source": [
    "# load json and create model\n",
    "json_file = open('model_ann.json', 'r')\n",
    "loaded_model_json = json_file.read()\n",
    "json_file.close()\n",
    "loaded_model = model_from_json(loaded_model_json)\n",
    "# load weights into new model\n",
    "loaded_model.load_weights(\"model_ann.h5\")\n",
    "print(\"Loaded model from disk\")\n",
    "loaded_model.compile(loss='mae', optimizer='adam', metrics=['accuracy'])"
   ]
  },
  {
   "cell_type": "code",
   "execution_count": 123,
   "metadata": {
    "scrolled": true
   },
   "outputs": [
    {
     "name": "stdout",
     "output_type": "stream",
     "text": [
      "Model: \"sequential_3\"\n",
      "_________________________________________________________________\n",
      "Layer (type)                 Output Shape              Param #   \n",
      "=================================================================\n",
      "dense_5 (Dense)              (None, 20)                400       \n",
      "_________________________________________________________________\n",
      "dense_6 (Dense)              (None, 13)                273       \n",
      "_________________________________________________________________\n",
      "dense_7 (Dense)              (None, 1)                 14        \n",
      "=================================================================\n",
      "Total params: 687\n",
      "Trainable params: 687\n",
      "Non-trainable params: 0\n",
      "_________________________________________________________________\n"
     ]
    }
   ],
   "source": [
    "loaded_model.summary()"
   ]
  },
  {
   "cell_type": "markdown",
   "metadata": {},
   "source": [
    "Please run this cell only after loading the trained model"
   ]
  },
  {
   "cell_type": "code",
   "execution_count": 125,
   "metadata": {},
   "outputs": [],
   "source": [
    "def ann_model(i):\n",
    "    \n",
    "    col1 = [i for i in data.columns if i not in list(range(48,59))]\n",
    "    data_new = data[1/abs(data.y)>= bins[i]]\n",
    "    data_new = data[col1]\n",
    "    X_new, y_new = data_new.iloc[:,:-2],(data_new.iloc[:,-2])\n",
    "    X_new = (X_new-X_new.min())/(X_new.max()-X_new.min())\n",
    "    \n",
    "    e = np.digitize(y_new,bins)\n",
    "    X_train, X_test, y_train, y_test = train_test_split(X_new, y_new, test_size=0.2, random_state=123, stratify = e )\n",
    "\n",
    "    # Predict on testing and training set\n",
    "    y_pred = loaded_model.predict(X_test)\n",
    "    y_train_pred = loaded_model.predict(X_train)\n",
    "    \n",
    "    acc = round(accuracy_score(np.digitize(1/(abs(y_test)), bins), np.digitize(1/(abs(y_pred[:,0])), bins)),4)\n",
    "    mae = round(sm.mean_absolute_error(y_test, y_pred[:,0]), 4)\n",
    "\n",
    "    return acc, mae,  y_test, y_pred, y_train, y_train_pred"
   ]
  },
  {
   "cell_type": "code",
   "execution_count": 126,
   "metadata": {
    "scrolled": true
   },
   "outputs": [
    {
     "name": "stderr",
     "output_type": "stream",
     "text": [
      "100%|██████████| 120/120 [1:13:43<00:00, 36.86s/it]\n"
     ]
    }
   ],
   "source": [
    "ann_results = np.array([ann_model(i) for i in tqdm(range(len(bins)))])"
   ]
  },
  {
   "cell_type": "code",
   "execution_count": 127,
   "metadata": {},
   "outputs": [
    {
     "data": {
      "text/html": [
       "<div>\n",
       "<style scoped>\n",
       "    .dataframe tbody tr th:only-of-type {\n",
       "        vertical-align: middle;\n",
       "    }\n",
       "\n",
       "    .dataframe tbody tr th {\n",
       "        vertical-align: top;\n",
       "    }\n",
       "\n",
       "    .dataframe thead th {\n",
       "        text-align: right;\n",
       "    }\n",
       "</style>\n",
       "<table border=\"1\" class=\"dataframe\">\n",
       "  <thead>\n",
       "    <tr style=\"text-align: right;\">\n",
       "      <th></th>\n",
       "      <th>0</th>\n",
       "      <th>1</th>\n",
       "      <th>2</th>\n",
       "      <th>3</th>\n",
       "      <th>4</th>\n",
       "      <th>5</th>\n",
       "    </tr>\n",
       "  </thead>\n",
       "  <tbody>\n",
       "    <tr>\n",
       "      <th>0</th>\n",
       "      <td>0.4272</td>\n",
       "      <td>0.0313</td>\n",
       "      <td>51404      0.233459\n",
       "662673    -0.420489\n",
       "206865...</td>\n",
       "      <td>[[0.2656855], [-0.4282038], [-0.47252753], [0....</td>\n",
       "      <td>779758     0.029018\n",
       "814439     0.001726\n",
       "816147...</td>\n",
       "      <td>[[0.04138091], [-0.014184758], [0.23043203], [...</td>\n",
       "    </tr>\n",
       "    <tr>\n",
       "      <th>1</th>\n",
       "      <td>0.4272</td>\n",
       "      <td>0.0313</td>\n",
       "      <td>51404      0.233459\n",
       "662673    -0.420489\n",
       "206865...</td>\n",
       "      <td>[[0.2656855], [-0.4282038], [-0.47252753], [0....</td>\n",
       "      <td>779758     0.029018\n",
       "814439     0.001726\n",
       "816147...</td>\n",
       "      <td>[[0.04138091], [-0.014184758], [0.23043203], [...</td>\n",
       "    </tr>\n",
       "    <tr>\n",
       "      <th>2</th>\n",
       "      <td>0.4272</td>\n",
       "      <td>0.0313</td>\n",
       "      <td>51404      0.233459\n",
       "662673    -0.420489\n",
       "206865...</td>\n",
       "      <td>[[0.2656855], [-0.4282038], [-0.47252753], [0....</td>\n",
       "      <td>779758     0.029018\n",
       "814439     0.001726\n",
       "816147...</td>\n",
       "      <td>[[0.04138091], [-0.014184758], [0.23043203], [...</td>\n",
       "    </tr>\n",
       "    <tr>\n",
       "      <th>3</th>\n",
       "      <td>0.4272</td>\n",
       "      <td>0.0313</td>\n",
       "      <td>51404      0.233459\n",
       "662673    -0.420489\n",
       "206865...</td>\n",
       "      <td>[[0.2656855], [-0.4282038], [-0.47252753], [0....</td>\n",
       "      <td>779758     0.029018\n",
       "814439     0.001726\n",
       "816147...</td>\n",
       "      <td>[[0.04138091], [-0.014184758], [0.23043203], [...</td>\n",
       "    </tr>\n",
       "    <tr>\n",
       "      <th>4</th>\n",
       "      <td>0.4272</td>\n",
       "      <td>0.0313</td>\n",
       "      <td>51404      0.233459\n",
       "662673    -0.420489\n",
       "206865...</td>\n",
       "      <td>[[0.2656855], [-0.4282038], [-0.47252753], [0....</td>\n",
       "      <td>779758     0.029018\n",
       "814439     0.001726\n",
       "816147...</td>\n",
       "      <td>[[0.04138091], [-0.014184758], [0.23043203], [...</td>\n",
       "    </tr>\n",
       "    <tr>\n",
       "      <th>...</th>\n",
       "      <td>...</td>\n",
       "      <td>...</td>\n",
       "      <td>...</td>\n",
       "      <td>...</td>\n",
       "      <td>...</td>\n",
       "      <td>...</td>\n",
       "    </tr>\n",
       "    <tr>\n",
       "      <th>115</th>\n",
       "      <td>0.4272</td>\n",
       "      <td>0.0313</td>\n",
       "      <td>51404      0.233459\n",
       "662673    -0.420489\n",
       "206865...</td>\n",
       "      <td>[[0.2656855], [-0.4282038], [-0.47252753], [0....</td>\n",
       "      <td>779758     0.029018\n",
       "814439     0.001726\n",
       "816147...</td>\n",
       "      <td>[[0.04138091], [-0.014184758], [0.23043203], [...</td>\n",
       "    </tr>\n",
       "    <tr>\n",
       "      <th>116</th>\n",
       "      <td>0.4272</td>\n",
       "      <td>0.0313</td>\n",
       "      <td>51404      0.233459\n",
       "662673    -0.420489\n",
       "206865...</td>\n",
       "      <td>[[0.2656855], [-0.4282038], [-0.47252753], [0....</td>\n",
       "      <td>779758     0.029018\n",
       "814439     0.001726\n",
       "816147...</td>\n",
       "      <td>[[0.04138091], [-0.014184758], [0.23043203], [...</td>\n",
       "    </tr>\n",
       "    <tr>\n",
       "      <th>117</th>\n",
       "      <td>0.4272</td>\n",
       "      <td>0.0313</td>\n",
       "      <td>51404      0.233459\n",
       "662673    -0.420489\n",
       "206865...</td>\n",
       "      <td>[[0.2656855], [-0.4282038], [-0.47252753], [0....</td>\n",
       "      <td>779758     0.029018\n",
       "814439     0.001726\n",
       "816147...</td>\n",
       "      <td>[[0.04138091], [-0.014184758], [0.23043203], [...</td>\n",
       "    </tr>\n",
       "    <tr>\n",
       "      <th>118</th>\n",
       "      <td>0.4272</td>\n",
       "      <td>0.0313</td>\n",
       "      <td>51404      0.233459\n",
       "662673    -0.420489\n",
       "206865...</td>\n",
       "      <td>[[0.2656855], [-0.4282038], [-0.47252753], [0....</td>\n",
       "      <td>779758     0.029018\n",
       "814439     0.001726\n",
       "816147...</td>\n",
       "      <td>[[0.04138091], [-0.014184758], [0.23043203], [...</td>\n",
       "    </tr>\n",
       "    <tr>\n",
       "      <th>119</th>\n",
       "      <td>0.4272</td>\n",
       "      <td>0.0313</td>\n",
       "      <td>51404      0.233459\n",
       "662673    -0.420489\n",
       "206865...</td>\n",
       "      <td>[[0.2656855], [-0.4282038], [-0.47252753], [0....</td>\n",
       "      <td>779758     0.029018\n",
       "814439     0.001726\n",
       "816147...</td>\n",
       "      <td>[[0.04138091], [-0.014184758], [0.23043203], [...</td>\n",
       "    </tr>\n",
       "  </tbody>\n",
       "</table>\n",
       "<p>120 rows × 6 columns</p>\n",
       "</div>"
      ],
      "text/plain": [
       "          0       1                                                  2  \\\n",
       "0    0.4272  0.0313  51404      0.233459\n",
       "662673    -0.420489\n",
       "206865...   \n",
       "1    0.4272  0.0313  51404      0.233459\n",
       "662673    -0.420489\n",
       "206865...   \n",
       "2    0.4272  0.0313  51404      0.233459\n",
       "662673    -0.420489\n",
       "206865...   \n",
       "3    0.4272  0.0313  51404      0.233459\n",
       "662673    -0.420489\n",
       "206865...   \n",
       "4    0.4272  0.0313  51404      0.233459\n",
       "662673    -0.420489\n",
       "206865...   \n",
       "..      ...     ...                                                ...   \n",
       "115  0.4272  0.0313  51404      0.233459\n",
       "662673    -0.420489\n",
       "206865...   \n",
       "116  0.4272  0.0313  51404      0.233459\n",
       "662673    -0.420489\n",
       "206865...   \n",
       "117  0.4272  0.0313  51404      0.233459\n",
       "662673    -0.420489\n",
       "206865...   \n",
       "118  0.4272  0.0313  51404      0.233459\n",
       "662673    -0.420489\n",
       "206865...   \n",
       "119  0.4272  0.0313  51404      0.233459\n",
       "662673    -0.420489\n",
       "206865...   \n",
       "\n",
       "                                                     3  \\\n",
       "0    [[0.2656855], [-0.4282038], [-0.47252753], [0....   \n",
       "1    [[0.2656855], [-0.4282038], [-0.47252753], [0....   \n",
       "2    [[0.2656855], [-0.4282038], [-0.47252753], [0....   \n",
       "3    [[0.2656855], [-0.4282038], [-0.47252753], [0....   \n",
       "4    [[0.2656855], [-0.4282038], [-0.47252753], [0....   \n",
       "..                                                 ...   \n",
       "115  [[0.2656855], [-0.4282038], [-0.47252753], [0....   \n",
       "116  [[0.2656855], [-0.4282038], [-0.47252753], [0....   \n",
       "117  [[0.2656855], [-0.4282038], [-0.47252753], [0....   \n",
       "118  [[0.2656855], [-0.4282038], [-0.47252753], [0....   \n",
       "119  [[0.2656855], [-0.4282038], [-0.47252753], [0....   \n",
       "\n",
       "                                                     4  \\\n",
       "0    779758     0.029018\n",
       "814439     0.001726\n",
       "816147...   \n",
       "1    779758     0.029018\n",
       "814439     0.001726\n",
       "816147...   \n",
       "2    779758     0.029018\n",
       "814439     0.001726\n",
       "816147...   \n",
       "3    779758     0.029018\n",
       "814439     0.001726\n",
       "816147...   \n",
       "4    779758     0.029018\n",
       "814439     0.001726\n",
       "816147...   \n",
       "..                                                 ...   \n",
       "115  779758     0.029018\n",
       "814439     0.001726\n",
       "816147...   \n",
       "116  779758     0.029018\n",
       "814439     0.001726\n",
       "816147...   \n",
       "117  779758     0.029018\n",
       "814439     0.001726\n",
       "816147...   \n",
       "118  779758     0.029018\n",
       "814439     0.001726\n",
       "816147...   \n",
       "119  779758     0.029018\n",
       "814439     0.001726\n",
       "816147...   \n",
       "\n",
       "                                                     5  \n",
       "0    [[0.04138091], [-0.014184758], [0.23043203], [...  \n",
       "1    [[0.04138091], [-0.014184758], [0.23043203], [...  \n",
       "2    [[0.04138091], [-0.014184758], [0.23043203], [...  \n",
       "3    [[0.04138091], [-0.014184758], [0.23043203], [...  \n",
       "4    [[0.04138091], [-0.014184758], [0.23043203], [...  \n",
       "..                                                 ...  \n",
       "115  [[0.04138091], [-0.014184758], [0.23043203], [...  \n",
       "116  [[0.04138091], [-0.014184758], [0.23043203], [...  \n",
       "117  [[0.04138091], [-0.014184758], [0.23043203], [...  \n",
       "118  [[0.04138091], [-0.014184758], [0.23043203], [...  \n",
       "119  [[0.04138091], [-0.014184758], [0.23043203], [...  \n",
       "\n",
       "[120 rows x 6 columns]"
      ]
     },
     "execution_count": 127,
     "metadata": {},
     "output_type": "execute_result"
    }
   ],
   "source": [
    "pd.DataFrame(ann_results)"
   ]
  },
  {
   "cell_type": "code",
   "execution_count": 128,
   "metadata": {},
   "outputs": [
    {
     "data": {
      "text/plain": [
       "Text(0.5, 0, 'Mae for pt values predicted')"
      ]
     },
     "execution_count": 128,
     "metadata": {},
     "output_type": "execute_result"
    },
    {
     "data": {
      "image/png": "[encoded data removed]",
      "text/plain": [
       "<Figure size 432x288 with 1 Axes>"
      ]
     },
     "metadata": {
      "needs_background": "light"
     },
     "output_type": "display_data"
    }
   ],
   "source": [
    "plt.plot(np.array(pd.DataFrame(ann_results)[1]))\n",
    "plt.xlabel('Mae for pt values predicted')"
   ]
  }
 ],
 "metadata": {
  "kernelspec": {
   "display_name": "Python 3",
   "language": "python",
   "name": "python3"
  },
  "language_info": {
   "codemirror_mode": {
    "name": "ipython",
    "version": 3
   },
   "file_extension": ".py",
   "mimetype": "text/x-python",
   "name": "python",
   "nbconvert_exporter": "python",
   "pygments_lexer": "ipython3",
   "version": "3.8.3"
  }
 },
 "nbformat": 4,
 "nbformat_minor": 4
}
