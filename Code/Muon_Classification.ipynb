{
  "nbformat": 4,
  "nbformat_minor": 0,
  "metadata": {
    "kernelspec": {
      "display_name": "Python 3",
      "language": "python",
      "name": "python3"
    },
    "language_info": {
      "codemirror_mode": {
        "name": "ipython",
        "version": 3
      },
      "file_extension": ".py",
      "mimetype": "text/x-python",
      "name": "python",
      "nbconvert_exporter": "python",
      "pygments_lexer": "ipython3",
      "version": "3.8.3"
    },
    "colab": {
      "name": "Muon Classification",
      "provenance": []
    }
  },
  "cells": [
    {
      "cell_type": "code",
      "metadata": {
        "id": "Rfv2AVitf0kH"
      },
      "source": [
        "from numpy import load\n",
        "import pandas as pd\n",
        "import numpy as np\n",
        "import numpy as np\n",
        "from keras.layers import Input, Conv2D\n",
        "from keras.models import Model\n",
        "import sklearn.metrics as sm\n",
        "import tensorflow as tf\n",
        "from numpy import load\n",
        "from tensorflow.keras import datasets, layers, models\n",
        "import matplotlib.pyplot as plt\n",
        "import pickle\n",
        "from multiprocessing import Queue\n",
        "from h5py import File\n",
        "from numpy import array"
      ],
      "execution_count": null,
      "outputs": []
    },
    {
      "cell_type": "code",
      "metadata": {
        "id": "76wgpR1Cf0kM"
      },
      "source": [
        "from keras.layers import Dense, Conv1D, Flatten\n",
        "from sklearn.model_selection import train_test_split\n",
        "from sklearn.metrics import mean_squared_error\n",
        "from tensorflow.keras import datasets, layers, models\n",
        "import matplotlib.pyplot as plt\n",
        "import pickle\n",
        "from multiprocessing import Queue\n",
        "import xgboost as xgb\n",
        "from sklearn.metrics import mean_absolute_error\n",
        "from bayes_opt import BayesianOptimization\n",
        "from keras.models import model_from_json\n",
        "import numpy\n",
        "import os\n",
        "import ast \n",
        "from itertools import chain"
      ],
      "execution_count": null,
      "outputs": []
    },
    {
      "cell_type": "code",
      "metadata": {
        "id": "TNRAOlACf0kP"
      },
      "source": [
        "import matplotlib.pyplot as plt\n",
        "import pickle\n",
        "plt.style.use('fivethirtyeight')\n",
        "from keras.models import model_from_json\n",
        "import os"
      ],
      "execution_count": null,
      "outputs": []
    },
    {
      "cell_type": "code",
      "metadata": {
        "id": "YXlQQmsff0kT"
      },
      "source": [
        "from pandas import read_csv\n",
        "from keras.models import Sequential\n",
        "from keras.layers import Dense\n",
        "from keras.wrappers.scikit_learn import KerasRegressor\n",
        "from sklearn.model_selection import cross_val_score\n",
        "from sklearn.model_selection import KFold"
      ],
      "execution_count": null,
      "outputs": []
    },
    {
      "cell_type": "code",
      "metadata": {
        "id": "TX7PwJQ3f0kZ"
      },
      "source": [
        "from keras.layers.convolutional import Convolution2D\n",
        "from keras.layers.core import Flatten, Dense, Activation\n",
        "from keras.utils import np_utils\n",
        "import cv2\n",
        "from keras.layers.core import Flatten, Dense, Activation\n",
        "from keras.utils import np_utils"
      ],
      "execution_count": null,
      "outputs": []
    },
    {
      "cell_type": "markdown",
      "metadata": {
        "id": "coK3onqVf0ke"
      },
      "source": [
        " # Loading & Preprocessing"
      ]
    },
    {
      "cell_type": "code",
      "metadata": {
        "id": "P7B5k5J9f0kf",
        "outputId": "9732ac8d-4882-4854-e6e6-cdae7db935a1"
      },
      "source": [
        "data = load('/Users/ipsitapraharaj/Desktop/CERN/histos_tba.20.npz')\n",
        "lst = data.files\n",
        "li = []\n",
        "di = []\n",
        "for item in lst:\n",
        "    print(item)\n",
        "    li.append(item)\n",
        "    print(data[item])\n",
        "    di.append(data[item])"
      ],
      "execution_count": null,
      "outputs": [
        {
          "output_type": "stream",
          "text": [
            "variables\n",
            "[[3.190e+03       nan 3.546e+03 ... 1.000e+00 1.000e+00 1.080e+02]\n",
            " [2.865e+03       nan 2.622e+03 ... 7.000e+00 0.000e+00 8.400e+01]\n",
            " [      nan 1.415e+03 1.455e+03 ... 4.000e+00 5.000e+00 4.500e+01]\n",
            " ...\n",
            " [4.054e+03       nan 4.016e+03 ... 4.000e+00 1.000e+00 1.260e+02]\n",
            " [      nan 3.464e+03 3.439e+03 ... 4.000e+00 5.000e+00 1.070e+02]\n",
            " [8.360e+02       nan 2.960e+02 ... 8.000e+00 3.000e+00 1.300e+01]]\n",
            "parameters\n",
            "[[-4.4561279e-01  1.4571882e+00  2.0295827e+00]\n",
            " [ 3.5296607e-01  3.0257308e+00  2.3594687e+00]\n",
            " [-1.6274202e-01  3.1199055e+00  1.3629041e+00]\n",
            " ...\n",
            " [ 6.8795025e-02  1.1116440e+00 -2.1278090e+00]\n",
            " [-1.0955442e-03 -1.2106152e+00 -1.3475411e+00]\n",
            " [ 4.1426006e-01  2.7685122e+00 -1.6879805e+00]]\n"
          ],
          "name": "stdout"
        }
      ]
    },
    {
      "cell_type": "code",
      "metadata": {
        "id": "9p1egUVSf0kr",
        "outputId": "573ede4d-41b1-4510-ffb3-dc3de26707b5"
      },
      "source": [
        "orig_data = pd.DataFrame(di[0])\n",
        "orig_data['y'] = pd.DataFrame(di[1])[0]\n",
        "data = pd.DataFrame(di[0])\n",
        "data"
      ],
      "execution_count": null,
      "outputs": [
        {
          "output_type": "execute_result",
          "data": {
            "text/html": [
              "<div>\n",
              "<style scoped>\n",
              "    .dataframe tbody tr th:only-of-type {\n",
              "        vertical-align: middle;\n",
              "    }\n",
              "\n",
              "    .dataframe tbody tr th {\n",
              "        vertical-align: top;\n",
              "    }\n",
              "\n",
              "    .dataframe thead th {\n",
              "        text-align: right;\n",
              "    }\n",
              "</style>\n",
              "<table border=\"1\" class=\"dataframe\">\n",
              "  <thead>\n",
              "    <tr style=\"text-align: right;\">\n",
              "      <th></th>\n",
              "      <th>0</th>\n",
              "      <th>1</th>\n",
              "      <th>2</th>\n",
              "      <th>3</th>\n",
              "      <th>4</th>\n",
              "      <th>5</th>\n",
              "      <th>6</th>\n",
              "      <th>7</th>\n",
              "      <th>8</th>\n",
              "      <th>9</th>\n",
              "      <th>...</th>\n",
              "      <th>77</th>\n",
              "      <th>78</th>\n",
              "      <th>79</th>\n",
              "      <th>80</th>\n",
              "      <th>81</th>\n",
              "      <th>82</th>\n",
              "      <th>83</th>\n",
              "      <th>84</th>\n",
              "      <th>85</th>\n",
              "      <th>86</th>\n",
              "    </tr>\n",
              "  </thead>\n",
              "  <tbody>\n",
              "    <tr>\n",
              "      <th>0</th>\n",
              "      <td>3190.0</td>\n",
              "      <td>NaN</td>\n",
              "      <td>3546.0</td>\n",
              "      <td>3568.0</td>\n",
              "      <td>NaN</td>\n",
              "      <td>NaN</td>\n",
              "      <td>NaN</td>\n",
              "      <td>3568.0</td>\n",
              "      <td>NaN</td>\n",
              "      <td>3127.0</td>\n",
              "      <td>...</td>\n",
              "      <td>1.0</td>\n",
              "      <td>1.0</td>\n",
              "      <td>0.0</td>\n",
              "      <td>1.0</td>\n",
              "      <td>0.0</td>\n",
              "      <td>0.0</td>\n",
              "      <td>0.0</td>\n",
              "      <td>1.0</td>\n",
              "      <td>1.0</td>\n",
              "      <td>108.0</td>\n",
              "    </tr>\n",
              "    <tr>\n",
              "      <th>1</th>\n",
              "      <td>2865.0</td>\n",
              "      <td>NaN</td>\n",
              "      <td>2622.0</td>\n",
              "      <td>2608.0</td>\n",
              "      <td>NaN</td>\n",
              "      <td>NaN</td>\n",
              "      <td>NaN</td>\n",
              "      <td>2604.0</td>\n",
              "      <td>2600.0</td>\n",
              "      <td>NaN</td>\n",
              "      <td>...</td>\n",
              "      <td>1.0</td>\n",
              "      <td>1.0</td>\n",
              "      <td>0.0</td>\n",
              "      <td>0.0</td>\n",
              "      <td>1.0</td>\n",
              "      <td>0.0</td>\n",
              "      <td>0.0</td>\n",
              "      <td>7.0</td>\n",
              "      <td>0.0</td>\n",
              "      <td>84.0</td>\n",
              "    </tr>\n",
              "    <tr>\n",
              "      <th>2</th>\n",
              "      <td>NaN</td>\n",
              "      <td>1415.0</td>\n",
              "      <td>1455.0</td>\n",
              "      <td>1440.0</td>\n",
              "      <td>1408.0</td>\n",
              "      <td>1440.0</td>\n",
              "      <td>1460.0</td>\n",
              "      <td>1424.0</td>\n",
              "      <td>NaN</td>\n",
              "      <td>NaN</td>\n",
              "      <td>...</td>\n",
              "      <td>0.0</td>\n",
              "      <td>0.0</td>\n",
              "      <td>0.0</td>\n",
              "      <td>1.0</td>\n",
              "      <td>1.0</td>\n",
              "      <td>1.0</td>\n",
              "      <td>1.0</td>\n",
              "      <td>4.0</td>\n",
              "      <td>5.0</td>\n",
              "      <td>45.0</td>\n",
              "    </tr>\n",
              "    <tr>\n",
              "      <th>3</th>\n",
              "      <td>3484.0</td>\n",
              "      <td>NaN</td>\n",
              "      <td>3328.0</td>\n",
              "      <td>3328.0</td>\n",
              "      <td>3360.0</td>\n",
              "      <td>NaN</td>\n",
              "      <td>NaN</td>\n",
              "      <td>3336.0</td>\n",
              "      <td>NaN</td>\n",
              "      <td>3520.0</td>\n",
              "      <td>...</td>\n",
              "      <td>1.0</td>\n",
              "      <td>1.0</td>\n",
              "      <td>0.0</td>\n",
              "      <td>1.0</td>\n",
              "      <td>0.0</td>\n",
              "      <td>0.0</td>\n",
              "      <td>1.0</td>\n",
              "      <td>5.0</td>\n",
              "      <td>3.0</td>\n",
              "      <td>105.0</td>\n",
              "    </tr>\n",
              "    <tr>\n",
              "      <th>4</th>\n",
              "      <td>4867.0</td>\n",
              "      <td>NaN</td>\n",
              "      <td>NaN</td>\n",
              "      <td>4648.0</td>\n",
              "      <td>4688.0</td>\n",
              "      <td>NaN</td>\n",
              "      <td>NaN</td>\n",
              "      <td>4656.0</td>\n",
              "      <td>4696.0</td>\n",
              "      <td>4923.0</td>\n",
              "      <td>...</td>\n",
              "      <td>1.0</td>\n",
              "      <td>1.0</td>\n",
              "      <td>0.0</td>\n",
              "      <td>0.0</td>\n",
              "      <td>0.0</td>\n",
              "      <td>0.0</td>\n",
              "      <td>1.0</td>\n",
              "      <td>6.0</td>\n",
              "      <td>1.0</td>\n",
              "      <td>146.0</td>\n",
              "    </tr>\n",
              "    <tr>\n",
              "      <th>...</th>\n",
              "      <td>...</td>\n",
              "      <td>...</td>\n",
              "      <td>...</td>\n",
              "      <td>...</td>\n",
              "      <td>...</td>\n",
              "      <td>...</td>\n",
              "      <td>...</td>\n",
              "      <td>...</td>\n",
              "      <td>...</td>\n",
              "      <td>...</td>\n",
              "      <td>...</td>\n",
              "      <td>...</td>\n",
              "      <td>...</td>\n",
              "      <td>...</td>\n",
              "      <td>...</td>\n",
              "      <td>...</td>\n",
              "      <td>...</td>\n",
              "      <td>...</td>\n",
              "      <td>...</td>\n",
              "      <td>...</td>\n",
              "      <td>...</td>\n",
              "    </tr>\n",
              "    <tr>\n",
              "      <th>3272336</th>\n",
              "      <td>2477.0</td>\n",
              "      <td>NaN</td>\n",
              "      <td>2432.0</td>\n",
              "      <td>2422.0</td>\n",
              "      <td>2424.0</td>\n",
              "      <td>NaN</td>\n",
              "      <td>NaN</td>\n",
              "      <td>2424.0</td>\n",
              "      <td>2424.0</td>\n",
              "      <td>NaN</td>\n",
              "      <td>...</td>\n",
              "      <td>1.0</td>\n",
              "      <td>1.0</td>\n",
              "      <td>0.0</td>\n",
              "      <td>0.0</td>\n",
              "      <td>1.0</td>\n",
              "      <td>0.0</td>\n",
              "      <td>0.0</td>\n",
              "      <td>4.0</td>\n",
              "      <td>0.0</td>\n",
              "      <td>77.0</td>\n",
              "    </tr>\n",
              "    <tr>\n",
              "      <th>3272337</th>\n",
              "      <td>4328.0</td>\n",
              "      <td>NaN</td>\n",
              "      <td>4232.0</td>\n",
              "      <td>4200.0</td>\n",
              "      <td>4176.0</td>\n",
              "      <td>NaN</td>\n",
              "      <td>NaN</td>\n",
              "      <td>4192.0</td>\n",
              "      <td>NaN</td>\n",
              "      <td>NaN</td>\n",
              "      <td>...</td>\n",
              "      <td>1.0</td>\n",
              "      <td>1.0</td>\n",
              "      <td>0.0</td>\n",
              "      <td>1.0</td>\n",
              "      <td>1.0</td>\n",
              "      <td>0.0</td>\n",
              "      <td>0.0</td>\n",
              "      <td>5.0</td>\n",
              "      <td>0.0</td>\n",
              "      <td>133.0</td>\n",
              "    </tr>\n",
              "    <tr>\n",
              "      <th>3272338</th>\n",
              "      <td>4054.0</td>\n",
              "      <td>NaN</td>\n",
              "      <td>4016.0</td>\n",
              "      <td>4000.0</td>\n",
              "      <td>NaN</td>\n",
              "      <td>NaN</td>\n",
              "      <td>NaN</td>\n",
              "      <td>4000.0</td>\n",
              "      <td>3992.0</td>\n",
              "      <td>4066.0</td>\n",
              "      <td>...</td>\n",
              "      <td>1.0</td>\n",
              "      <td>1.0</td>\n",
              "      <td>0.0</td>\n",
              "      <td>0.0</td>\n",
              "      <td>0.0</td>\n",
              "      <td>0.0</td>\n",
              "      <td>0.0</td>\n",
              "      <td>4.0</td>\n",
              "      <td>1.0</td>\n",
              "      <td>126.0</td>\n",
              "    </tr>\n",
              "    <tr>\n",
              "      <th>3272339</th>\n",
              "      <td>NaN</td>\n",
              "      <td>3464.0</td>\n",
              "      <td>3439.0</td>\n",
              "      <td>3468.0</td>\n",
              "      <td>3464.0</td>\n",
              "      <td>3456.0</td>\n",
              "      <td>3468.0</td>\n",
              "      <td>3468.0</td>\n",
              "      <td>NaN</td>\n",
              "      <td>NaN</td>\n",
              "      <td>...</td>\n",
              "      <td>0.0</td>\n",
              "      <td>0.0</td>\n",
              "      <td>0.0</td>\n",
              "      <td>1.0</td>\n",
              "      <td>1.0</td>\n",
              "      <td>1.0</td>\n",
              "      <td>1.0</td>\n",
              "      <td>4.0</td>\n",
              "      <td>5.0</td>\n",
              "      <td>107.0</td>\n",
              "    </tr>\n",
              "    <tr>\n",
              "      <th>3272340</th>\n",
              "      <td>836.0</td>\n",
              "      <td>NaN</td>\n",
              "      <td>296.0</td>\n",
              "      <td>435.0</td>\n",
              "      <td>NaN</td>\n",
              "      <td>NaN</td>\n",
              "      <td>NaN</td>\n",
              "      <td>NaN</td>\n",
              "      <td>860.0</td>\n",
              "      <td>NaN</td>\n",
              "      <td>...</td>\n",
              "      <td>1.0</td>\n",
              "      <td>1.0</td>\n",
              "      <td>1.0</td>\n",
              "      <td>0.0</td>\n",
              "      <td>1.0</td>\n",
              "      <td>0.0</td>\n",
              "      <td>1.0</td>\n",
              "      <td>8.0</td>\n",
              "      <td>3.0</td>\n",
              "      <td>13.0</td>\n",
              "    </tr>\n",
              "  </tbody>\n",
              "</table>\n",
              "<p>3272341 rows × 87 columns</p>\n",
              "</div>"
            ],
            "text/plain": [
              "             0       1       2       3       4       5       6       7   \\\n",
              "0        3190.0     NaN  3546.0  3568.0     NaN     NaN     NaN  3568.0   \n",
              "1        2865.0     NaN  2622.0  2608.0     NaN     NaN     NaN  2604.0   \n",
              "2           NaN  1415.0  1455.0  1440.0  1408.0  1440.0  1460.0  1424.0   \n",
              "3        3484.0     NaN  3328.0  3328.0  3360.0     NaN     NaN  3336.0   \n",
              "4        4867.0     NaN     NaN  4648.0  4688.0     NaN     NaN  4656.0   \n",
              "...         ...     ...     ...     ...     ...     ...     ...     ...   \n",
              "3272336  2477.0     NaN  2432.0  2422.0  2424.0     NaN     NaN  2424.0   \n",
              "3272337  4328.0     NaN  4232.0  4200.0  4176.0     NaN     NaN  4192.0   \n",
              "3272338  4054.0     NaN  4016.0  4000.0     NaN     NaN     NaN  4000.0   \n",
              "3272339     NaN  3464.0  3439.0  3468.0  3464.0  3456.0  3468.0  3468.0   \n",
              "3272340   836.0     NaN   296.0   435.0     NaN     NaN     NaN     NaN   \n",
              "\n",
              "             8       9   ...   77   78   79   80   81   82   83   84   85  \\\n",
              "0           NaN  3127.0  ...  1.0  1.0  0.0  1.0  0.0  0.0  0.0  1.0  1.0   \n",
              "1        2600.0     NaN  ...  1.0  1.0  0.0  0.0  1.0  0.0  0.0  7.0  0.0   \n",
              "2           NaN     NaN  ...  0.0  0.0  0.0  1.0  1.0  1.0  1.0  4.0  5.0   \n",
              "3           NaN  3520.0  ...  1.0  1.0  0.0  1.0  0.0  0.0  1.0  5.0  3.0   \n",
              "4        4696.0  4923.0  ...  1.0  1.0  0.0  0.0  0.0  0.0  1.0  6.0  1.0   \n",
              "...         ...     ...  ...  ...  ...  ...  ...  ...  ...  ...  ...  ...   \n",
              "3272336  2424.0     NaN  ...  1.0  1.0  0.0  0.0  1.0  0.0  0.0  4.0  0.0   \n",
              "3272337     NaN     NaN  ...  1.0  1.0  0.0  1.0  1.0  0.0  0.0  5.0  0.0   \n",
              "3272338  3992.0  4066.0  ...  1.0  1.0  0.0  0.0  0.0  0.0  0.0  4.0  1.0   \n",
              "3272339     NaN     NaN  ...  0.0  0.0  0.0  1.0  1.0  1.0  1.0  4.0  5.0   \n",
              "3272340   860.0     NaN  ...  1.0  1.0  1.0  0.0  1.0  0.0  1.0  8.0  3.0   \n",
              "\n",
              "            86  \n",
              "0        108.0  \n",
              "1         84.0  \n",
              "2         45.0  \n",
              "3        105.0  \n",
              "4        146.0  \n",
              "...        ...  \n",
              "3272336   77.0  \n",
              "3272337  133.0  \n",
              "3272338  126.0  \n",
              "3272339  107.0  \n",
              "3272340   13.0  \n",
              "\n",
              "[3272341 rows x 87 columns]"
            ]
          },
          "metadata": {
            "tags": []
          },
          "execution_count": 9
        }
      ]
    },
    {
      "cell_type": "markdown",
      "metadata": {
        "id": "N-5OOospf0k0"
      },
      "source": [
        "Pre- processing Removing unwanted columns and NaN rows\n",
        "& Bining of absolute values of pt"
      ]
    },
    {
      "cell_type": "code",
      "metadata": {
        "id": "w48jOQTDf0k1"
      },
      "source": [
        "col = list(filter(lambda x: x%12<5, list(range(84))))\n",
        "col = list(filter(lambda x: (x-1)%12!=0, col))\n",
        "col = sorted(list(set(col).difference(list(range(36,59))+list(range(72,83)))))\n",
        "\n",
        "data = pd.concat([data[col],orig_data.iloc[:,-4:]],axis=1)\n",
        "data = data.dropna()\n",
        "\n",
        "data['label'] = abs(1/data['y'])\n",
        "bins = [data['label'].min(), 5, 10, 15, 20, 25, 40, 50, 60, 80, 100, data['label'].max()]\n",
        "labels = [1,2,3,4,5,6,7,8,9,10,11]\n",
        "data['label'] = pd.cut(data['label'], bins=bins, labels=labels)\n",
        "data = data.reset_index(drop=True)\n",
        "\n",
        "X, y = data.iloc[:,:-2],data.iloc[:,-2]\n",
        "X = (X-X.min())/(X.max()-X.min())"
      ],
      "execution_count": null,
      "outputs": []
    },
    {
      "cell_type": "markdown",
      "metadata": {
        "id": "d2JFI5_Ff0k4"
      },
      "source": [
        "preparing normalized dataset for model"
      ]
    },
    {
      "cell_type": "code",
      "metadata": {
        "id": "Q58s6uX5f0k4"
      },
      "source": [
        "X_train, X_test, y_train, y_test = train_test_split(X, y, test_size=0.2, random_state=123)"
      ],
      "execution_count": null,
      "outputs": []
    },
    {
      "cell_type": "markdown",
      "metadata": {
        "id": "4STCBmUmf0k7"
      },
      "source": [
        " # XGB"
      ]
    },
    {
      "cell_type": "code",
      "metadata": {
        "id": "CX4mSiW_f0k8"
      },
      "source": [
        "X_train, X_test, y_train, y_test = train_test_split(X, y, test_size=0.2, random_state=123)\n",
        "dtrain = xgb.DMatrix(data=X_train,label=y_train)\n",
        "dtest = xgb.DMatrix(data=X_test,label=y_test)"
      ],
      "execution_count": null,
      "outputs": []
    },
    {
      "cell_type": "code",
      "metadata": {
        "id": "0ELmD-XJf0k_"
      },
      "source": [
        "def xgb_evaluate(max_depth, gamma, colsample_bytree):\n",
        "    params = {'eval_metric': 'rmse',\n",
        "              'max_depth': int(max_depth),\n",
        "              'subsample': 0.8,\n",
        "              'eta': 0.1,\n",
        "              'gamma': gamma,\n",
        "              'colsample_bytree': colsample_bytree}\n",
        "    # Used around 1000 boosting rounds in the full model\n",
        "    cv_result = xgb.cv(params, dtrain, num_boost_round=100, nfold=3)    \n",
        "    \n",
        "    # Bayesian optimization only knows how to maximize, not minimize, so return the negative RMSE\n",
        "    return -1.0 * cv_result['test-rmse-mean'].iloc[-1]"
      ],
      "execution_count": null,
      "outputs": []
    },
    {
      "cell_type": "code",
      "metadata": {
        "id": "XtYYCH7Ff0lG",
        "outputId": "2a4c265c-0ae0-460d-caa6-84a1a05b62cc"
      },
      "source": [
        "xgb_bo = BayesianOptimization(xgb_evaluate, {'max_depth': (3, 7), \n",
        "                                             'gamma': (0, 1),\n",
        "                                             'colsample_bytree': (0.3, 0.9)})\n",
        "# Use the expected improvement acquisition function to handle negative numbers\n",
        "# Optimally needs quite a few more initiation points and number of iterations\n",
        "xgb_bo.maximize(init_points=3, n_iter=5, acq='ei')"
      ],
      "execution_count": null,
      "outputs": [
        {
          "output_type": "stream",
          "text": [
            "|   iter    |  target   | colsam... |   gamma   | max_depth |\n",
            "-------------------------------------------------------------\n",
            "| \u001b[0m 1       \u001b[0m | \u001b[0m-0.0621  \u001b[0m | \u001b[0m 0.7923  \u001b[0m | \u001b[0m 0.3895  \u001b[0m | \u001b[0m 3.713   \u001b[0m |\n",
            "| \u001b[95m 2       \u001b[0m | \u001b[95m-0.06178 \u001b[0m | \u001b[95m 0.8673  \u001b[0m | \u001b[95m 0.1403  \u001b[0m | \u001b[95m 3.612   \u001b[0m |\n",
            "| \u001b[95m 3       \u001b[0m | \u001b[95m-0.05812 \u001b[0m | \u001b[95m 0.7902  \u001b[0m | \u001b[95m 0.3184  \u001b[0m | \u001b[95m 6.2     \u001b[0m |\n",
            "| \u001b[95m 4       \u001b[0m | \u001b[95m-0.05768 \u001b[0m | \u001b[95m 0.8275  \u001b[0m | \u001b[95m 0.1821  \u001b[0m | \u001b[95m 6.833   \u001b[0m |\n",
            "| \u001b[0m 5       \u001b[0m | \u001b[0m-0.06097 \u001b[0m | \u001b[0m 0.3     \u001b[0m | \u001b[0m 1.0     \u001b[0m | \u001b[0m 7.0     \u001b[0m |\n",
            "| \u001b[95m 6       \u001b[0m | \u001b[95m-0.05701 \u001b[0m | \u001b[95m 0.9     \u001b[0m | \u001b[95m 0.0     \u001b[0m | \u001b[95m 6.581   \u001b[0m |\n",
            "| \u001b[0m 7       \u001b[0m | \u001b[0m-0.0589  \u001b[0m | \u001b[0m 0.3689  \u001b[0m | \u001b[0m 0.0     \u001b[0m | \u001b[0m 6.489   \u001b[0m |\n",
            "| \u001b[95m 8       \u001b[0m | \u001b[95m-0.0554  \u001b[0m | \u001b[95m 0.9     \u001b[0m | \u001b[95m 0.0     \u001b[0m | \u001b[95m 7.0     \u001b[0m |\n",
            "=============================================================\n"
          ],
          "name": "stdout"
        }
      ]
    },
    {
      "cell_type": "code",
      "metadata": {
        "id": "6mkgUwnZf0lL"
      },
      "source": [
        "sort_orders = sorted([xgb_bo.res[i]['target'] for i in range(len(xgb_bo.res))], reverse = True)"
      ],
      "execution_count": null,
      "outputs": []
    },
    {
      "cell_type": "code",
      "metadata": {
        "id": "FPJVOz5ef0lP"
      },
      "source": [
        "for i in range(len(xgb_bo.res)):\n",
        "    if (xgb_bo.res[i]['target'] == sort_orders[0]):\n",
        "        params = xgb_bo.res[i]['params']"
      ],
      "execution_count": null,
      "outputs": []
    },
    {
      "cell_type": "code",
      "metadata": {
        "scrolled": true,
        "id": "6PcsWA1wf0lS"
      },
      "source": [
        "# params = xgb_bo.res['max']['max_params']\n",
        "params['max_depth'] = int(params['max_depth'])"
      ],
      "execution_count": null,
      "outputs": []
    },
    {
      "cell_type": "code",
      "metadata": {
        "id": "rcenGjc-f0lW"
      },
      "source": [
        "params.to_csv('/Users/ipsitapraharaj/Desktop/CERN/params.csv')"
      ],
      "execution_count": null,
      "outputs": []
    },
    {
      "cell_type": "code",
      "metadata": {
        "scrolled": true,
        "id": "QUeS1QEMf0lY",
        "outputId": "226eea90-3341-48d4-9a63-195d94b01ca7"
      },
      "source": [
        "# Train a new model with the best parameters from the search\n",
        "model2 = xgb.train(params, dtrain, num_boost_round=25)\n",
        "\n",
        "# Predict on testing and training set\n",
        "y_pred = model2.predict(dtest)\n",
        "y_train_pred = model2.predict(dtrain)\n",
        "\n",
        "# Report testing and training RMSE\n",
        "print(np.sqrt(mean_squared_error(y_test, y_pred)))\n",
        "print(np.sqrt(mean_squared_error(y_train, y_train_pred)))"
      ],
      "execution_count": null,
      "outputs": [
        {
          "output_type": "stream",
          "text": [
            "0.056968834\n",
            "0.05617634\n"
          ],
          "name": "stdout"
        }
      ]
    },
    {
      "cell_type": "code",
      "metadata": {
        "id": "4vxQwaU1f0lb",
        "outputId": "069dec78-18e4-4316-e22d-c64e82026e3b"
      },
      "source": [
        "x_ax = range(len(y_pred))\n",
        "plt.scatter(x_ax[:20], y_test[:20], s=5, color=\"blue\", label=\"original\")\n",
        "plt.plot(x_ax[:20], y_pred[:20], lw=0.8, color=\"red\", label=\"predicted\")\n",
        "plt.legend()\n",
        "plt.show()"
      ],
      "execution_count": null,
      "outputs": [
        {
          "output_type": "display_data",
          "data": {
            "image/png": "[encoded data removed]",
            "text/plain": [
              "<Figure size 432x288 with 1 Axes>"
            ]
          },
          "metadata": {
            "tags": []
          }
        }
      ]
    },
    {
      "cell_type": "markdown",
      "metadata": {
        "id": "q9vcyx_Pf0li"
      },
      "source": [
        "Plot showing 20 points for rough representation only"
      ]
    },
    {
      "cell_type": "code",
      "metadata": {
        "id": "f-MOnYTEf0lj",
        "outputId": "8d227c5f-62cc-4b4b-cff8-97e3e8e28625"
      },
      "source": [
        "print(\"Mean absolute error =\", round(sm.mean_absolute_error(y_test, y_pred), 4)) \n",
        "print(\"Mean squared error =\", round(sm.mean_squared_error(y_test, y_pred), 4)) \n",
        "print(\"Median absolute error =\", round(sm.median_absolute_error(y_test, y_pred), 4)) \n",
        "print(\"Explain variance score =\", round(sm.explained_variance_score(y_test, y_pred), 4)) \n",
        "print(\"R2 score =\", round(sm.r2_score(y_test, y_pred), 4))"
      ],
      "execution_count": null,
      "outputs": [
        {
          "output_type": "stream",
          "text": [
            "Mean absolute error = 0.0415\n",
            "Mean squared error = 0.0032\n",
            "Median absolute error = 0.0314\n",
            "Explain variance score = 0.9491\n",
            "R2 score = 0.9491\n"
          ],
          "name": "stdout"
        }
      ]
    },
    {
      "cell_type": "markdown",
      "metadata": {
        "id": "oN_LhWcdf0lp"
      },
      "source": [
        "Please run this cell only after loading the trained model"
      ]
    },
    {
      "cell_type": "code",
      "metadata": {
        "id": "tnuJdvk9f0lq"
      },
      "source": [
        "params = pd.read_csv('/Users/ipsitapraharaj/Desktop/CERN/params.csv', index_col = 0).sort_values('target').iloc[-1,-1]\n",
        "params = ast.literal_eval(params)\n",
        "params['max_depth'] = int(params['max_depth'])"
      ],
      "execution_count": null,
      "outputs": []
    },
    {
      "cell_type": "code",
      "metadata": {
        "scrolled": true,
        "id": "NtVrIrfnf0lt",
        "outputId": "13370719-6172-49f6-82de-eaab27c6cddb"
      },
      "source": [
        "# Train a new model with the best parameters from the search\n",
        "model2 = xgb.train(params, dtrain, num_boost_round=25)\n",
        "\n",
        "# Predict on testing and training set\n",
        "y_pred = model2.predict(dtest)\n",
        "y_train_pred = model2.predict(dtrain)\n",
        "\n",
        "# Report testing and training RMSE\n",
        "print(np.sqrt(mean_squared_error(y_test, y_pred)))\n",
        "print(np.sqrt(mean_squared_error(y_train, y_train_pred)))"
      ],
      "execution_count": null,
      "outputs": [
        {
          "output_type": "stream",
          "text": [
            "0.056968834\n",
            "0.05617634\n"
          ],
          "name": "stdout"
        }
      ]
    },
    {
      "cell_type": "code",
      "metadata": {
        "id": "yGK7V1g6f0lw",
        "outputId": "b39a3b93-eb71-430b-aa86-64cb7f8747e4"
      },
      "source": [
        "print(\"Mean absolute error =\", round(sm.mean_absolute_error(y_test, y_pred), 4)) \n",
        "print(\"Accuracy =\", 100-round(sm.mean_absolute_error(y_test, y_pred), 4)*100) "
      ],
      "execution_count": null,
      "outputs": [
        {
          "output_type": "stream",
          "text": [
            "Mean absolute error = 0.0415\n",
            "Accuracy = 95.85000015795231\n"
          ],
          "name": "stdout"
        }
      ]
    },
    {
      "cell_type": "markdown",
      "metadata": {
        "id": "OhoheFmYf0ly"
      },
      "source": [
        " # ANN\n",
        " \n",
        " Please download the model_ann.json & model_ann.h5 files to the local directory to run this model\n",
        " \n",
        " The results are displayed corresponding to each cell"
      ]
    },
    {
      "cell_type": "code",
      "metadata": {
        "id": "HG9JyY2Kf0lz"
      },
      "source": [
        "X_train, X_test, y_train, y_test = train_test_split(X, y, test_size=0.2, random_state=123)"
      ],
      "execution_count": null,
      "outputs": []
    },
    {
      "cell_type": "code",
      "metadata": {
        "id": "_SAHTGtOf0l3",
        "outputId": "a0b2e068-3fbc-40a7-f8a4-e37ffb2975f1"
      },
      "source": [
        "(y_train).shape"
      ],
      "execution_count": null,
      "outputs": [
        {
          "output_type": "execute_result",
          "data": {
            "text/plain": [
              "(943484,)"
            ]
          },
          "metadata": {
            "tags": []
          },
          "execution_count": 61
        }
      ]
    },
    {
      "cell_type": "code",
      "metadata": {
        "id": "fwyTxNDTf0l5",
        "outputId": "ff0a44f4-46f3-4b3b-a473-ab2ade346401"
      },
      "source": [
        "model = Sequential()\n",
        "model.add(Dense(20, input_dim=19, kernel_initializer='normal', activation='relu'))\n",
        "model.add(Dense(13, kernel_initializer='normal', activation='relu'))\n",
        "model.add(Dense(1, kernel_initializer='normal'))\n",
        "# Compile model\n",
        "model.compile(optimizer = 'adam',loss = 'mean_squared_error')\n",
        "model.fit(X_train, y_train, batch_size = 10, epochs = 10)"
      ],
      "execution_count": null,
      "outputs": [
        {
          "output_type": "stream",
          "text": [
            "Epoch 1/10\n",
            "94349/94349 [==============================] - 164s 2ms/step - loss: 0.0039\n",
            "Epoch 2/10\n",
            "94349/94349 [==============================] - 157s 2ms/step - loss: 0.0026\n",
            "Epoch 3/10\n",
            "94349/94349 [==============================] - 150s 2ms/step - loss: 0.0022\n",
            "Epoch 4/10\n",
            "94349/94349 [==============================] - 145s 2ms/step - loss: 0.0021\n",
            "Epoch 5/10\n",
            "94349/94349 [==============================] - 146s 2ms/step - loss: 0.0021\n",
            "Epoch 6/10\n",
            "94349/94349 [==============================] - 145s 2ms/step - loss: 0.0020\n",
            "Epoch 7/10\n",
            "94349/94349 [==============================] - 145s 2ms/step - loss: 0.0020\n",
            "Epoch 8/10\n",
            "94349/94349 [==============================] - 146s 2ms/step - loss: 0.0020\n",
            "Epoch 9/10\n",
            "94349/94349 [==============================] - 144s 2ms/step - loss: 0.0019\n",
            "Epoch 10/10\n",
            "94349/94349 [==============================] - 151s 2ms/step - loss: 0.0019\n"
          ],
          "name": "stdout"
        },
        {
          "output_type": "execute_result",
          "data": {
            "text/plain": [
              "<tensorflow.python.keras.callbacks.History at 0x7fe114c1f670>"
            ]
          },
          "metadata": {
            "tags": []
          },
          "execution_count": 56
        }
      ]
    },
    {
      "cell_type": "code",
      "metadata": {
        "id": "t-m9cFYVf0l9",
        "outputId": "b321f665-6266-4b5d-aaba-75dc29af8ef5"
      },
      "source": [
        "ypred = model.predict(X_test)\n",
        "print(model.evaluate(X_train, y_train))"
      ],
      "execution_count": null,
      "outputs": [
        {
          "output_type": "stream",
          "text": [
            "29484/29484 [==============================] - 34s 1ms/step - loss: 0.0019\n",
            "0.001863214885815978\n"
          ],
          "name": "stdout"
        }
      ]
    },
    {
      "cell_type": "code",
      "metadata": {
        "id": "7ybR_HpRf0mA",
        "outputId": "38acd1f4-3a5e-4c2f-90b3-86bec0692f21"
      },
      "source": [
        "print(\"MAE: %.4f\" % sm.mean_absolute_error(y_test, ypred))"
      ],
      "execution_count": null,
      "outputs": [
        {
          "output_type": "stream",
          "text": [
            "MAE: 0.0312\n"
          ],
          "name": "stdout"
        }
      ]
    },
    {
      "cell_type": "code",
      "metadata": {
        "scrolled": true,
        "id": "EdMpfrVif0mD",
        "outputId": "6ff03519-6183-4fac-b5dc-92a9e4ac9edc"
      },
      "source": [
        "x_ax = range(len(ypred))\n",
        "plt.scatter(x_ax[:20], y_test[:20], s=5, color=\"blue\", label=\"original\")\n",
        "plt.plot(x_ax[:20], ypred[:20], lw=0.8, color=\"red\", label=\"predicted\")\n",
        "plt.legend()\n",
        "plt.show()"
      ],
      "execution_count": null,
      "outputs": [
        {
          "output_type": "display_data",
          "data": {
            "image/png": "[encoded data removed]",
            "text/plain": [
              "<Figure size 432x288 with 1 Axes>"
            ]
          },
          "metadata": {
            "tags": []
          }
        }
      ]
    },
    {
      "cell_type": "markdown",
      "metadata": {
        "id": "vy86TX2if0mF"
      },
      "source": [
        "Plot showing 20 points for rough representation only"
      ]
    },
    {
      "cell_type": "code",
      "metadata": {
        "id": "_mfi5wuzf0mG",
        "outputId": "f4f3f216-051a-4701-e495-fd6286b040bd"
      },
      "source": [
        "print(\"Mean absolute error =\", round(sm.mean_absolute_error(y_test, ypred), 4)) \n",
        "print(\"Mean squared error =\", round(sm.mean_squared_error(y_test, ypred), 4)) \n",
        "print(\"Median absolute error =\", round(sm.median_absolute_error(y_test, ypred), 4)) \n",
        "print(\"Explain variance score =\", round(sm.explained_variance_score(y_test, ypred), 4)) \n",
        "print(\"R2 score =\", round(sm.r2_score(y_test, ypred), 4))"
      ],
      "execution_count": null,
      "outputs": [
        {
          "output_type": "stream",
          "text": [
            "Mean absolute error = 0.0312\n",
            "Mean squared error = 0.0019\n",
            "Median absolute error = 0.0234\n",
            "Explain variance score = 0.9704\n",
            "R2 score = 0.9702\n"
          ],
          "name": "stdout"
        }
      ]
    },
    {
      "cell_type": "code",
      "metadata": {
        "id": "1P6JJ37Hf0mN",
        "outputId": "b1ef5ada-6453-4159-ed2d-1b936eb9178b"
      },
      "source": [
        "# serialize model to JSON\n",
        "model_json = model.to_json()\n",
        "with open(\"model_ann.json\", \"w\") as json_file:\n",
        "    json_file.write(model_json)\n",
        "# serialize weights to HDF5\n",
        "model.save_weights(\"model_ann.h5\")\n",
        "print(\"Saved model to disk\")\n",
        " \n",
        "# later..."
      ],
      "execution_count": null,
      "outputs": [
        {
          "output_type": "stream",
          "text": [
            "Saved model to disk\n"
          ],
          "name": "stdout"
        }
      ]
    },
    {
      "cell_type": "code",
      "metadata": {
        "id": "bL8WA7_wf0mT",
        "outputId": "7ddc7135-5b4e-4187-e231-8f45c27f287b"
      },
      "source": [
        "# load json and create model\n",
        "json_file = open('model_ann.json', 'r')\n",
        "loaded_model_json = json_file.read()\n",
        "json_file.close()\n",
        "loaded_model = model_from_json(loaded_model_json)\n",
        "# load weights into new model\n",
        "loaded_model.load_weights(\"model_ann.h5\")\n",
        "print(\"Loaded model from disk\")\n",
        " "
      ],
      "execution_count": null,
      "outputs": [
        {
          "output_type": "stream",
          "text": [
            "Loaded model from disk\n"
          ],
          "name": "stdout"
        }
      ]
    },
    {
      "cell_type": "markdown",
      "metadata": {
        "id": "9IT45x0uf0ma"
      },
      "source": [
        "Please run this cell only after loading the trained model"
      ]
    },
    {
      "cell_type": "code",
      "metadata": {
        "id": "ivC4s_vff0mb",
        "outputId": "230e5844-b29d-481b-c1b9-16ead03acafc"
      },
      "source": [
        "# evaluate loaded model on test data\n",
        "loaded_model.compile(loss='mae', optimizer='adam', metrics=['accuracy'])\n",
        "score = loaded_model.evaluate(X_train, y_train, verbose=0)\n",
        "print(\"%s: %.2f%%\" % (loaded_model.metrics_names[1], 100-(score[0]*100)))"
      ],
      "execution_count": null,
      "outputs": [
        {
          "output_type": "stream",
          "text": [
            "accuracy: 96.88%\n"
          ],
          "name": "stdout"
        }
      ]
    },
    {
      "cell_type": "markdown",
      "metadata": {
        "id": "_cs2JsJZf0mf"
      },
      "source": [
        " # CNN 1D\n",
        " Please download the model_cnn1.json & model_cnn1.h5 files to the local directory to run this model\n",
        " \n",
        " The results are displayed corresponding to each cell"
      ]
    },
    {
      "cell_type": "code",
      "metadata": {
        "id": "U0vaa-JQf0mh"
      },
      "source": [
        "X_train, X_test, y_train, y_test = train_test_split(X, y, test_size=0.2, random_state=123)"
      ],
      "execution_count": null,
      "outputs": []
    },
    {
      "cell_type": "code",
      "metadata": {
        "scrolled": true,
        "id": "UYMORBdHf0mo",
        "outputId": "a6c13d25-e776-4b3d-e675-f2597bad68cd"
      },
      "source": [
        "x = X.to_numpy().reshape(X.to_numpy().shape[0], X.to_numpy().shape[1], 1)\n",
        "print(x.shape)\n",
        "x = np.nan_to_num(x)\n",
        "X_train, X_test, y_train, y_test = train_test_split(x, y, test_size=0.2, random_state=123)"
      ],
      "execution_count": null,
      "outputs": [
        {
          "output_type": "stream",
          "text": [
            "(1179356, 19, 1)\n"
          ],
          "name": "stdout"
        }
      ]
    },
    {
      "cell_type": "code",
      "metadata": {
        "scrolled": true,
        "id": "S51ZGgNof0mw",
        "outputId": "d670143e-fe39-45cc-e998-ec8d11268e4c"
      },
      "source": [
        "model = Sequential()\n",
        "model.add(Conv1D(32, 2, activation=\"relu\", input_shape=(x.shape[1:])))\n",
        "model.add(Conv1D(64, 2, activation=\"relu\"))\n",
        "model.add(Flatten())\n",
        "model.add(Dense(64, activation=\"relu\"))\n",
        "model.add(Dense(1))\n",
        "model.compile(loss=\"mae\", optimizer=\"adam\")\n",
        " \n",
        "model.summary()"
      ],
      "execution_count": null,
      "outputs": [
        {
          "output_type": "stream",
          "text": [
            "Model: \"sequential_1\"\n",
            "_________________________________________________________________\n",
            "Layer (type)                 Output Shape              Param #   \n",
            "=================================================================\n",
            "conv1d (Conv1D)              (None, 18, 32)            96        \n",
            "_________________________________________________________________\n",
            "conv1d_1 (Conv1D)            (None, 17, 64)            4160      \n",
            "_________________________________________________________________\n",
            "flatten (Flatten)            (None, 1088)              0         \n",
            "_________________________________________________________________\n",
            "dense (Dense)                (None, 64)                69696     \n",
            "_________________________________________________________________\n",
            "dense_1 (Dense)              (None, 1)                 65        \n",
            "=================================================================\n",
            "Total params: 74,017\n",
            "Trainable params: 74,017\n",
            "Non-trainable params: 0\n",
            "_________________________________________________________________\n"
          ],
          "name": "stdout"
        }
      ]
    },
    {
      "cell_type": "code",
      "metadata": {
        "id": "wBxp2Nlqf0m0",
        "outputId": "45d28879-01e6-4867-de74-a5e3334410e8"
      },
      "source": [
        "model.fit(X_train, y_train, batch_size=12,epochs=10, verbose=0)\n",
        "ypred = model.predict(X_test)\n",
        "print(model.evaluate(X_train, y_train))\n",
        " "
      ],
      "execution_count": null,
      "outputs": [
        {
          "output_type": "stream",
          "text": [
            "29484/29484 [==============================] - 51s 2ms/step - loss: 0.0273\n",
            "0.027269020676612854\n"
          ],
          "name": "stdout"
        }
      ]
    },
    {
      "cell_type": "code",
      "metadata": {
        "id": "TVDgqJc2f0m2",
        "outputId": "24e5bd64-2a4a-4501-dc19-5212d9ba23f6"
      },
      "source": [
        "print(\"MAE: %.4f\" % sm.mean_absolute_error(y_test, ypred))"
      ],
      "execution_count": null,
      "outputs": [
        {
          "output_type": "stream",
          "text": [
            "MAE: 0.0273\n"
          ],
          "name": "stdout"
        }
      ]
    },
    {
      "cell_type": "code",
      "metadata": {
        "scrolled": true,
        "id": "S2xUP5HKf0m7",
        "outputId": "e2de7a2b-bac9-4ba9-8e1f-00cfcfb116f0"
      },
      "source": [
        "x_ax = range(len(ypred))\n",
        "plt.scatter(x_ax[:20], y_test[:20], s=5, color=\"blue\", label=\"original\")\n",
        "plt.plot(x_ax[:20], ypred[:20], lw=0.8, color=\"red\", label=\"predicted\")\n",
        "plt.legend()\n",
        "plt.show()"
      ],
      "execution_count": null,
      "outputs": [
        {
          "output_type": "display_data",
          "data": {
            "image/png": "[encoded data removed]",
            "text/plain": [
              "<Figure size 432x288 with 1 Axes>"
            ]
          },
          "metadata": {
            "tags": []
          }
        }
      ]
    },
    {
      "cell_type": "markdown",
      "metadata": {
        "id": "EJ1m-skMf0m-"
      },
      "source": [
        "Plot showing 20 points for rough representation only"
      ]
    },
    {
      "cell_type": "code",
      "metadata": {
        "id": "F3Jjdj3Rf0m-",
        "outputId": "d0ce7a88-52ee-4896-c632-e04f1ddcfd8f"
      },
      "source": [
        "print(\"Mean absolute error =\", round(sm.mean_absolute_error(y_test, ypred), 4)) \n",
        "print(\"Mean squared error =\", round(sm.mean_squared_error(y_test, ypred), 4)) \n",
        "print(\"Median absolute error =\", round(sm.median_absolute_error(y_test, ypred), 4)) \n",
        "print(\"Explain variance score =\", round(sm.explained_variance_score(y_test, ypred), 4)) \n",
        "print(\"R2 score =\", round(sm.r2_score(y_test, ypred), 4))"
      ],
      "execution_count": null,
      "outputs": [
        {
          "output_type": "stream",
          "text": [
            "Mean absolute error = 0.0273\n",
            "Mean squared error = 0.0016\n",
            "Median absolute error = 0.0185\n",
            "Explain variance score = 0.9749\n",
            "R2 score = 0.9745\n"
          ],
          "name": "stdout"
        }
      ]
    },
    {
      "cell_type": "code",
      "metadata": {
        "id": "X6ddUUeVf0nG",
        "outputId": "eac3ff04-e13d-418f-bc41-bc52f8add9bd"
      },
      "source": [
        "# # serialize model to JSON\n",
        "# model_json = model.to_json()\n",
        "# with open(\"model_cnn1.json\", \"w\") as json_file:\n",
        "#     json_file.write(model_json)\n",
        "# # serialize weights to HDF5\n",
        "# model.save_weights(\"model_cnn1.h5\")\n",
        "# print(\"Saved model to disk\")\n",
        " \n",
        "# # later..."
      ],
      "execution_count": null,
      "outputs": [
        {
          "output_type": "stream",
          "text": [
            "Saved model to disk\n"
          ],
          "name": "stdout"
        }
      ]
    },
    {
      "cell_type": "code",
      "metadata": {
        "id": "75RE_Gdxf0nI",
        "outputId": "14266f55-6a1a-4554-de81-ef6ac1a0e3a2"
      },
      "source": [
        " \n",
        "# load json and create model\n",
        "json_file = open('model_cnn1.json', 'r')\n",
        "loaded_model_json = json_file.read()\n",
        "json_file.close()\n",
        "loaded_model = model_from_json(loaded_model_json)\n",
        "# load weights into new model\n",
        "loaded_model.load_weights(\"model_cnn1.h5\")\n",
        "print(\"Loaded model from disk\")\n",
        " "
      ],
      "execution_count": null,
      "outputs": [
        {
          "output_type": "stream",
          "text": [
            "Loaded model from disk\n"
          ],
          "name": "stdout"
        }
      ]
    },
    {
      "cell_type": "markdown",
      "metadata": {
        "id": "ksRPpIpWf0nN"
      },
      "source": [
        "Please run this cell only after loading the trained model"
      ]
    },
    {
      "cell_type": "code",
      "metadata": {
        "id": "Fb0qXuV3f0nQ",
        "outputId": "e058de1b-86b7-445c-bb8d-47ea9b4be305"
      },
      "source": [
        "# evaluate loaded model on test data\n",
        "loaded_model.compile(loss='mae', optimizer='adam', metrics=['accuracy'])\n",
        "score = loaded_model.evaluate(X_train, y_train, verbose=0)\n",
        "print(\"%s: %.2f%%\" % (loaded_model.metrics_names[1], 100-(score[0]*100)))"
      ],
      "execution_count": null,
      "outputs": [
        {
          "output_type": "stream",
          "text": [
            "accuracy: 96.88%\n"
          ],
          "name": "stdout"
        }
      ]
    },
    {
      "cell_type": "markdown",
      "metadata": {
        "id": "4OY8sICXf0nW"
      },
      "source": [
        "# CNN 2D - classification"
      ]
    },
    {
      "cell_type": "code",
      "metadata": {
        "id": "NxPj9W9Ff0nX"
      },
      "source": [
        "labs = len(labels)\n",
        "grouped = data.groupby(data.label)\n",
        "\n",
        "train, test = [],[]\n",
        "for i in range(labs):\n",
        "    df = grouped.get_group(labels[i])\n",
        "    msk  = np.random.rand(len(df)) < 0.8\n",
        "    train.append(df[msk])\n",
        "    test.append(df[~msk])\n",
        "\n",
        "maxlen = max([len(train[i]) for i in range(labs)])"
      ],
      "execution_count": null,
      "outputs": []
    },
    {
      "cell_type": "code",
      "metadata": {
        "id": "ZAPc6c6Wf0nf"
      },
      "source": [
        "def image_shaper(df):\n",
        "    X = [df[i].iloc[:,:-2] for i in range(labs)]\n",
        "    X = [(X[i]-X[i].min())/(X[i].max()-X[i].min()) for i in range(labs)]\n",
        "    X  = np.array([np.array(X[i]).reshape(len(X[i]),19) for i in range(labs)])\n",
        "    \n",
        "    y = [df[i].iloc[:,-2] for i in range(labs)]\n",
        "    y = np.array([i for i in range(labs)])\n",
        "\n",
        "    for i in range(labs):\n",
        "        pad = maxlen - len((X[i])) \n",
        "        X[i] = cv2.copyMakeBorder( np.float32(X[i]), 0, pad, 0, 0, cv2.BORDER_CONSTANT,value=0)\n",
        "\n",
        "    X = np.array([(X[i]).reshape(maxlen,19) for i in range(labs)]).reshape(labs,maxlen,19,1)\n",
        "    return X, y"
      ],
      "execution_count": null,
      "outputs": []
    },
    {
      "cell_type": "code",
      "metadata": {
        "id": "kXki0l-yf0nh",
        "outputId": "b525f9a6-0cb2-4437-c011-68d46f915236"
      },
      "source": [
        "X_train, y_train = image_shaper(train)\n",
        "X_test, y_test = image_shaper(test)\n",
        "y_test.shape"
      ],
      "execution_count": null,
      "outputs": [
        {
          "output_type": "execute_result",
          "data": {
            "text/plain": [
              "(11,)"
            ]
          },
          "metadata": {
            "tags": []
          },
          "execution_count": 149
        }
      ]
    },
    {
      "cell_type": "code",
      "metadata": {
        "id": "_lebeOjQf0nl"
      },
      "source": [
        "# building the input vector from the 28x28 pixels\n",
        "X_train = X_train.astype('float32')\n",
        "X_test = X_test.astype('float32')\n",
        "\n",
        "# normalizing the data to help with the training\n",
        "X_train /= 255\n",
        "X_test /= 255"
      ],
      "execution_count": null,
      "outputs": []
    },
    {
      "cell_type": "code",
      "metadata": {
        "id": "rj91u0zzf0nt"
      },
      "source": [
        "# building a linear stack of layers with the sequential model\n",
        "model = models.Sequential()\n",
        "model.add(layers.Conv2D(5, (3, 3), activation='relu', input_shape=(X_test.shape[1:])))\n",
        "model.add(layers.Conv2D(5, (3, 3), activation='relu'))\n",
        "model.add(layers.Flatten())\n",
        "model.add(layers.Dense(12, activation='relu'))\n",
        "model.add(Dense(11, kernel_initializer='normal'))\n"
      ],
      "execution_count": null,
      "outputs": []
    },
    {
      "cell_type": "code",
      "metadata": {
        "collapsed": true,
        "id": "9miqQQAQf0nw",
        "outputId": "af6bfc16-93e7-4975-afad-9d68d1c03bfc"
      },
      "source": [
        "model.summary()"
      ],
      "execution_count": null,
      "outputs": [
        {
          "output_type": "stream",
          "text": [
            "Model: \"sequential_2\"\n",
            "_________________________________________________________________\n",
            "Layer (type)                 Output Shape              Param #   \n",
            "=================================================================\n",
            "conv2d_4 (Conv2D)            (None, 513256, 17, 5)     50        \n",
            "_________________________________________________________________\n",
            "conv2d_5 (Conv2D)            (None, 513254, 15, 5)     230       \n",
            "_________________________________________________________________\n",
            "flatten_2 (Flatten)          (None, 38494050)          0         \n",
            "_________________________________________________________________\n",
            "dense_4 (Dense)              (None, 12)                461928612 \n",
            "_________________________________________________________________\n",
            "dense_5 (Dense)              (None, 11)                143       \n",
            "=================================================================\n",
            "Total params: 461,929,035\n",
            "Trainable params: 461,929,035\n",
            "Non-trainable params: 0\n",
            "_________________________________________________________________\n"
          ],
          "name": "stdout"
        }
      ]
    },
    {
      "cell_type": "code",
      "metadata": {
        "collapsed": true,
        "id": "aKj0XsmDf0n2",
        "outputId": "26fbfcd0-8de3-4640-8a26-70380642dc35"
      },
      "source": [
        "model.compile(optimizer='adam',\n",
        "              loss=tf.keras.losses.SparseCategoricalCrossentropy(from_logits=True),\n",
        "              metrics=['accuracy'])\n",
        "\n",
        "history = model.fit(X_train, y_train, epochs=15, \n",
        "                    validation_data=(X_test, y_test))"
      ],
      "execution_count": null,
      "outputs": [
        {
          "output_type": "stream",
          "text": [
            "Epoch 1/15\n",
            "1/1 [==============================] - 16s 16s/step - loss: 2.4038 - accuracy: 0.0909 - val_loss: 2.4436 - val_accuracy: 0.0909\n",
            "Epoch 2/15\n",
            "1/1 [==============================] - 16s 16s/step - loss: 2.4060 - accuracy: 0.1818 - val_loss: 2.7228 - val_accuracy: 0.0909\n",
            "Epoch 3/15\n",
            "1/1 [==============================] - 18s 18s/step - loss: 2.7030 - accuracy: 0.0909 - val_loss: 2.4041 - val_accuracy: 0.0909\n",
            "Epoch 4/15\n",
            "1/1 [==============================] - 17s 17s/step - loss: 2.3769 - accuracy: 0.0909 - val_loss: 2.3979 - val_accuracy: 0.0909\n",
            "Epoch 5/15\n",
            "1/1 [==============================] - 17s 17s/step - loss: 2.3844 - accuracy: 0.2727 - val_loss: 2.3979 - val_accuracy: 0.0909\n",
            "Epoch 6/15\n",
            "1/1 [==============================] - 17s 17s/step - loss: 2.3900 - accuracy: 0.3636 - val_loss: 2.3978 - val_accuracy: 0.0909\n",
            "Epoch 7/15\n",
            "1/1 [==============================] - 17s 17s/step - loss: 2.3937 - accuracy: 0.3636 - val_loss: 2.3978 - val_accuracy: 0.0909\n",
            "Epoch 8/15\n",
            "1/1 [==============================] - 17s 17s/step - loss: 2.3952 - accuracy: 0.2727 - val_loss: 2.3978 - val_accuracy: 0.0909\n",
            "Epoch 9/15\n",
            "1/1 [==============================] - 17s 17s/step - loss: 2.3955 - accuracy: 0.2727 - val_loss: 2.3978 - val_accuracy: 0.0909\n",
            "Epoch 10/15\n",
            "1/1 [==============================] - 18s 18s/step - loss: 2.3948 - accuracy: 0.2727 - val_loss: 2.3975 - val_accuracy: 0.1818\n",
            "Epoch 11/15\n",
            "1/1 [==============================] - 16s 16s/step - loss: 2.3916 - accuracy: 0.3636 - val_loss: 2.3967 - val_accuracy: 0.1818\n",
            "Epoch 12/15\n",
            "1/1 [==============================] - 16s 16s/step - loss: 2.3811 - accuracy: 0.4545 - val_loss: 2.3905 - val_accuracy: 0.0909\n",
            "Epoch 13/15\n",
            "1/1 [==============================] - 18s 18s/step - loss: 2.3575 - accuracy: 0.5455 - val_loss: 2.5162 - val_accuracy: 0.0909\n",
            "Epoch 14/15\n",
            "1/1 [==============================] - 17s 17s/step - loss: 2.4788 - accuracy: 0.0909 - val_loss: 2.3803 - val_accuracy: 0.2727\n",
            "Epoch 15/15\n",
            "1/1 [==============================] - 18s 18s/step - loss: 2.3045 - accuracy: 0.3636 - val_loss: 2.3888 - val_accuracy: 0.0909\n"
          ],
          "name": "stdout"
        }
      ]
    },
    {
      "cell_type": "code",
      "metadata": {
        "id": "J4I62D30f0n5",
        "outputId": "d5b8207c-0dc1-4b91-ea3e-4e0e52d44148"
      },
      "source": [
        "test_loss, test_acc = model.evaluate(X_test,  y_test, verbose=2)"
      ],
      "execution_count": null,
      "outputs": [
        {
          "output_type": "stream",
          "text": [
            "1/1 - 0s - loss: 2.3888 - accuracy: 0.0909\n"
          ],
          "name": "stdout"
        }
      ]
    },
    {
      "cell_type": "code",
      "metadata": {
        "id": "F3Q_iJbDf0oE",
        "outputId": "cb457385-7eb2-424c-db98-77177c4507e2"
      },
      "source": [
        "# serialize model to JSON\n",
        "model_json = model.to_json()\n",
        "with open(\"model_cnn2.json\", \"w\") as json_file:\n",
        "    json_file.write(model_json)\n",
        "# serialize weights to HDF5\n",
        "model.save_weights(\"model_cnn2.h5\")\n",
        "print(\"Saved model to disk\")\n",
        " \n",
        "# later..."
      ],
      "execution_count": null,
      "outputs": [
        {
          "output_type": "stream",
          "text": [
            "Saved model to disk\n"
          ],
          "name": "stdout"
        }
      ]
    },
    {
      "cell_type": "code",
      "metadata": {
        "id": "kROnNkrlf0oI",
        "outputId": "7150ba97-1e66-4b02-87ca-2617fc34b84f"
      },
      "source": [
        " \n",
        "# load json and create model\n",
        "json_file = open('model_cnn2.json', 'r')\n",
        "loaded_model_json = json_file.read()\n",
        "json_file.close()\n",
        "loaded_model = model_from_json(loaded_model_json)\n",
        "# load weights into new model\n",
        "loaded_model.load_weights(\"model_cnn2.h5\")\n",
        "print(\"Loaded model from disk\")\n",
        " "
      ],
      "execution_count": null,
      "outputs": [
        {
          "output_type": "stream",
          "text": [
            "Loaded model from disk\n"
          ],
          "name": "stdout"
        }
      ]
    },
    {
      "cell_type": "markdown",
      "metadata": {
        "id": "UdD8_3wVf0oO"
      },
      "source": [
        "Please run this cell only after loading the trained model"
      ]
    },
    {
      "cell_type": "code",
      "metadata": {
        "id": "5hAy8ZMJf0oP",
        "outputId": "e9de6d13-77b0-462a-8731-0c9b13a2443a"
      },
      "source": [
        "# evaluate loaded model on test data\n",
        "loaded_model.compile(loss='mae', optimizer='adam', metrics=['accuracy'])\n",
        "score = loaded_model.evaluate(X_train, y_train, verbose=0)\n",
        "print(\"%s: %.2f%%\" % (loaded_model.metrics_names[1], 100-(score[0]*100)))"
      ],
      "execution_count": null,
      "outputs": [
        {
          "output_type": "stream",
          "text": [
            "accuracy: -402.03%\n"
          ],
          "name": "stdout"
        }
      ]
    },
    {
      "cell_type": "markdown",
      "metadata": {
        "id": "ca9KkOUvf0oS"
      },
      "source": [
        " # Transfer learning"
      ]
    },
    {
      "cell_type": "code",
      "metadata": {
        "id": "RIPZWJTjf0oV"
      },
      "source": [
        "X_train.shape[1:]\n",
        "from keras import backend as K\n"
      ],
      "execution_count": null,
      "outputs": []
    },
    {
      "cell_type": "code",
      "metadata": {
        "id": "Og6qgGBwf0oX"
      },
      "source": [
        "import ssl\n",
        "\n",
        "ssl._create_default_https_context = ssl._create_unverified_context"
      ],
      "execution_count": null,
      "outputs": []
    },
    {
      "cell_type": "code",
      "metadata": {
        "id": "CpQ0bMtMf0oa"
      },
      "source": [
        "from keras.models import Model\n",
        "from keras.layers import Dense,Flatten\n",
        "from keras.applications import vgg16\n",
        "from keras import backend as K"
      ],
      "execution_count": null,
      "outputs": []
    },
    {
      "cell_type": "code",
      "metadata": {
        "scrolled": true,
        "id": "DlibHtrTf0oe",
        "outputId": "d1ef3c9c-81a0-4a9b-d263-427b7468cbe7"
      },
      "source": [
        "base_model = vgg16(weights='imagenet', \n",
        "                                include_top=False, \n",
        "                                input_shape=(X_train.shape[1:]))\n",
        "base_model.trainable = False\n",
        "\n",
        "x = base_model.output\n",
        "# let's add a fully-connected layer\n",
        "x = Dropout(0.5)(x)\n",
        "# and a sofymax/logistic layer -- we have 6 classes\n",
        "predictions = Dense(len(labs), activation='softmax')(x)\n",
        "\n",
        "# this is the model we will train\n",
        "model = Model(input=base_model.input, output=predictions)\n",
        "\n",
        "\n",
        "model.summary()"
      ],
      "execution_count": null,
      "outputs": [
        {
          "output_type": "error",
          "ename": "TypeError",
          "evalue": "'module' object is not callable",
          "traceback": [
            "\u001b[0;31m---------------------------------------------------------------------------\u001b[0m",
            "\u001b[0;31mTypeError\u001b[0m                                 Traceback (most recent call last)",
            "\u001b[0;32m<ipython-input-192-19d4d3e6b651>\u001b[0m in \u001b[0;36m<module>\u001b[0;34m\u001b[0m\n\u001b[0;32m----> 1\u001b[0;31m base_model = vgg16(weights='imagenet', \n\u001b[0m\u001b[1;32m      2\u001b[0m                                 \u001b[0minclude_top\u001b[0m\u001b[0;34m=\u001b[0m\u001b[0;32mFalse\u001b[0m\u001b[0;34m,\u001b[0m\u001b[0;34m\u001b[0m\u001b[0;34m\u001b[0m\u001b[0m\n\u001b[1;32m      3\u001b[0m                                 input_shape=(X_train.shape[1:]))\n\u001b[1;32m      4\u001b[0m \u001b[0mbase_model\u001b[0m\u001b[0;34m.\u001b[0m\u001b[0mtrainable\u001b[0m \u001b[0;34m=\u001b[0m \u001b[0;32mFalse\u001b[0m\u001b[0;34m\u001b[0m\u001b[0;34m\u001b[0m\u001b[0m\n\u001b[1;32m      5\u001b[0m \u001b[0;34m\u001b[0m\u001b[0m\n",
            "\u001b[0;31mTypeError\u001b[0m: 'module' object is not callable"
          ]
        }
      ]
    },
    {
      "cell_type": "code",
      "metadata": {
        "collapsed": true,
        "id": "zY7Oy5_Xf0ok",
        "outputId": "57dff7ec-38dd-4b3b-96c6-c58c63d6aa76"
      },
      "source": [
        "from keras.preprocessing.image import ImageDataGenerator\n",
        "from keras.callbacks import ModelCheckpoint\n",
        "\n",
        "batch_size = 2\n",
        "epochs = 1\n",
        "\n",
        "train_datagen = ImageDataGenerator(\n",
        "        rotation_range=30, \n",
        "        width_shift_range=0.1,\n",
        "        height_shift_range=0.1, \n",
        "        horizontal_flip=True)\n",
        "train_datagen.fit(X_train)\n",
        "\n",
        "\n",
        "history = model.fit(\n",
        "    train_datagen.flow(X_train, y_train, batch_size=batch_size),\n",
        "    steps_per_epoch=X_train.shape[0] // batch_size,\n",
        "    epochs=epochs,\n",
        "    validation_data=(X_test, y_test),\n",
        "    callbacks=[ModelCheckpoint('VGG16-transferlearning.model', monitor='val_acc', save_best_only=True)]\n",
        ")"
      ],
      "execution_count": null,
      "outputs": [
        {
          "output_type": "error",
          "ename": "InvalidArgumentError",
          "evalue": " input depth must be evenly divisible by filter depth: 1 vs 3\n\t [[node model_2/block1_conv1/Relu (defined at <ipython-input-158-f064e234d6e8>:15) ]] [Op:__inference_train_function_11399]\n\nFunction call stack:\ntrain_function\n",
          "traceback": [
            "\u001b[0;31m---------------------------------------------------------------------------\u001b[0m",
            "\u001b[0;31mInvalidArgumentError\u001b[0m                      Traceback (most recent call last)",
            "\u001b[0;32m<ipython-input-158-f064e234d6e8>\u001b[0m in \u001b[0;36m<module>\u001b[0;34m\u001b[0m\n\u001b[1;32m     13\u001b[0m \u001b[0;34m\u001b[0m\u001b[0m\n\u001b[1;32m     14\u001b[0m \u001b[0;34m\u001b[0m\u001b[0m\n\u001b[0;32m---> 15\u001b[0;31m history = model.fit(\n\u001b[0m\u001b[1;32m     16\u001b[0m     \u001b[0mtrain_datagen\u001b[0m\u001b[0;34m.\u001b[0m\u001b[0mflow\u001b[0m\u001b[0;34m(\u001b[0m\u001b[0mX_train\u001b[0m\u001b[0;34m,\u001b[0m \u001b[0my_train\u001b[0m\u001b[0;34m,\u001b[0m \u001b[0mbatch_size\u001b[0m\u001b[0;34m=\u001b[0m\u001b[0mbatch_size\u001b[0m\u001b[0;34m)\u001b[0m\u001b[0;34m,\u001b[0m\u001b[0;34m\u001b[0m\u001b[0;34m\u001b[0m\u001b[0m\n\u001b[1;32m     17\u001b[0m     \u001b[0msteps_per_epoch\u001b[0m\u001b[0;34m=\u001b[0m\u001b[0mX_train\u001b[0m\u001b[0;34m.\u001b[0m\u001b[0mshape\u001b[0m\u001b[0;34m[\u001b[0m\u001b[0;36m0\u001b[0m\u001b[0;34m]\u001b[0m \u001b[0;34m//\u001b[0m \u001b[0mbatch_size\u001b[0m\u001b[0;34m,\u001b[0m\u001b[0;34m\u001b[0m\u001b[0;34m\u001b[0m\u001b[0m\n",
            "\u001b[0;32m/Library/Frameworks/Python.framework/Versions/3.8/lib/python3.8/site-packages/tensorflow/python/keras/engine/training.py\u001b[0m in \u001b[0;36m_method_wrapper\u001b[0;34m(self, *args, **kwargs)\u001b[0m\n\u001b[1;32m     64\u001b[0m   \u001b[0;32mdef\u001b[0m \u001b[0m_method_wrapper\u001b[0m\u001b[0;34m(\u001b[0m\u001b[0mself\u001b[0m\u001b[0;34m,\u001b[0m \u001b[0;34m*\u001b[0m\u001b[0margs\u001b[0m\u001b[0;34m,\u001b[0m \u001b[0;34m**\u001b[0m\u001b[0mkwargs\u001b[0m\u001b[0;34m)\u001b[0m\u001b[0;34m:\u001b[0m\u001b[0;34m\u001b[0m\u001b[0;34m\u001b[0m\u001b[0m\n\u001b[1;32m     65\u001b[0m     \u001b[0;32mif\u001b[0m \u001b[0;32mnot\u001b[0m \u001b[0mself\u001b[0m\u001b[0;34m.\u001b[0m\u001b[0m_in_multi_worker_mode\u001b[0m\u001b[0;34m(\u001b[0m\u001b[0;34m)\u001b[0m\u001b[0;34m:\u001b[0m  \u001b[0;31m# pylint: disable=protected-access\u001b[0m\u001b[0;34m\u001b[0m\u001b[0;34m\u001b[0m\u001b[0m\n\u001b[0;32m---> 66\u001b[0;31m       \u001b[0;32mreturn\u001b[0m \u001b[0mmethod\u001b[0m\u001b[0;34m(\u001b[0m\u001b[0mself\u001b[0m\u001b[0;34m,\u001b[0m \u001b[0;34m*\u001b[0m\u001b[0margs\u001b[0m\u001b[0;34m,\u001b[0m \u001b[0;34m**\u001b[0m\u001b[0mkwargs\u001b[0m\u001b[0;34m)\u001b[0m\u001b[0;34m\u001b[0m\u001b[0;34m\u001b[0m\u001b[0m\n\u001b[0m\u001b[1;32m     67\u001b[0m \u001b[0;34m\u001b[0m\u001b[0m\n\u001b[1;32m     68\u001b[0m     \u001b[0;31m# Running inside `run_distribute_coordinator` already.\u001b[0m\u001b[0;34m\u001b[0m\u001b[0;34m\u001b[0m\u001b[0;34m\u001b[0m\u001b[0m\n",
            "\u001b[0;32m/Library/Frameworks/Python.framework/Versions/3.8/lib/python3.8/site-packages/tensorflow/python/keras/engine/training.py\u001b[0m in \u001b[0;36mfit\u001b[0;34m(self, x, y, batch_size, epochs, verbose, callbacks, validation_split, validation_data, shuffle, class_weight, sample_weight, initial_epoch, steps_per_epoch, validation_steps, validation_batch_size, validation_freq, max_queue_size, workers, use_multiprocessing)\u001b[0m\n\u001b[1;32m    846\u001b[0m                 batch_size=batch_size):\n\u001b[1;32m    847\u001b[0m               \u001b[0mcallbacks\u001b[0m\u001b[0;34m.\u001b[0m\u001b[0mon_train_batch_begin\u001b[0m\u001b[0;34m(\u001b[0m\u001b[0mstep\u001b[0m\u001b[0;34m)\u001b[0m\u001b[0;34m\u001b[0m\u001b[0;34m\u001b[0m\u001b[0m\n\u001b[0;32m--> 848\u001b[0;31m               \u001b[0mtmp_logs\u001b[0m \u001b[0;34m=\u001b[0m \u001b[0mtrain_function\u001b[0m\u001b[0;34m(\u001b[0m\u001b[0miterator\u001b[0m\u001b[0;34m)\u001b[0m\u001b[0;34m\u001b[0m\u001b[0;34m\u001b[0m\u001b[0m\n\u001b[0m\u001b[1;32m    849\u001b[0m               \u001b[0;31m# Catch OutOfRangeError for Datasets of unknown size.\u001b[0m\u001b[0;34m\u001b[0m\u001b[0;34m\u001b[0m\u001b[0;34m\u001b[0m\u001b[0m\n\u001b[1;32m    850\u001b[0m               \u001b[0;31m# This blocks until the batch has finished executing.\u001b[0m\u001b[0;34m\u001b[0m\u001b[0;34m\u001b[0m\u001b[0;34m\u001b[0m\u001b[0m\n",
            "\u001b[0;32m/Library/Frameworks/Python.framework/Versions/3.8/lib/python3.8/site-packages/tensorflow/python/eager/def_function.py\u001b[0m in \u001b[0;36m__call__\u001b[0;34m(self, *args, **kwds)\u001b[0m\n\u001b[1;32m    578\u001b[0m         \u001b[0mxla_context\u001b[0m\u001b[0;34m.\u001b[0m\u001b[0mExit\u001b[0m\u001b[0;34m(\u001b[0m\u001b[0;34m)\u001b[0m\u001b[0;34m\u001b[0m\u001b[0;34m\u001b[0m\u001b[0m\n\u001b[1;32m    579\u001b[0m     \u001b[0;32melse\u001b[0m\u001b[0;34m:\u001b[0m\u001b[0;34m\u001b[0m\u001b[0;34m\u001b[0m\u001b[0m\n\u001b[0;32m--> 580\u001b[0;31m       \u001b[0mresult\u001b[0m \u001b[0;34m=\u001b[0m \u001b[0mself\u001b[0m\u001b[0;34m.\u001b[0m\u001b[0m_call\u001b[0m\u001b[0;34m(\u001b[0m\u001b[0;34m*\u001b[0m\u001b[0margs\u001b[0m\u001b[0;34m,\u001b[0m \u001b[0;34m**\u001b[0m\u001b[0mkwds\u001b[0m\u001b[0;34m)\u001b[0m\u001b[0;34m\u001b[0m\u001b[0;34m\u001b[0m\u001b[0m\n\u001b[0m\u001b[1;32m    581\u001b[0m \u001b[0;34m\u001b[0m\u001b[0m\n\u001b[1;32m    582\u001b[0m     \u001b[0;32mif\u001b[0m \u001b[0mtracing_count\u001b[0m \u001b[0;34m==\u001b[0m \u001b[0mself\u001b[0m\u001b[0;34m.\u001b[0m\u001b[0m_get_tracing_count\u001b[0m\u001b[0;34m(\u001b[0m\u001b[0;34m)\u001b[0m\u001b[0;34m:\u001b[0m\u001b[0;34m\u001b[0m\u001b[0;34m\u001b[0m\u001b[0m\n",
            "\u001b[0;32m/Library/Frameworks/Python.framework/Versions/3.8/lib/python3.8/site-packages/tensorflow/python/eager/def_function.py\u001b[0m in \u001b[0;36m_call\u001b[0;34m(self, *args, **kwds)\u001b[0m\n\u001b[1;32m    642\u001b[0m         \u001b[0;31m# Lifting succeeded, so variables are initialized and we can run the\u001b[0m\u001b[0;34m\u001b[0m\u001b[0;34m\u001b[0m\u001b[0;34m\u001b[0m\u001b[0m\n\u001b[1;32m    643\u001b[0m         \u001b[0;31m# stateless function.\u001b[0m\u001b[0;34m\u001b[0m\u001b[0;34m\u001b[0m\u001b[0;34m\u001b[0m\u001b[0m\n\u001b[0;32m--> 644\u001b[0;31m         \u001b[0;32mreturn\u001b[0m \u001b[0mself\u001b[0m\u001b[0;34m.\u001b[0m\u001b[0m_stateless_fn\u001b[0m\u001b[0;34m(\u001b[0m\u001b[0;34m*\u001b[0m\u001b[0margs\u001b[0m\u001b[0;34m,\u001b[0m \u001b[0;34m**\u001b[0m\u001b[0mkwds\u001b[0m\u001b[0;34m)\u001b[0m\u001b[0;34m\u001b[0m\u001b[0;34m\u001b[0m\u001b[0m\n\u001b[0m\u001b[1;32m    645\u001b[0m     \u001b[0;32melse\u001b[0m\u001b[0;34m:\u001b[0m\u001b[0;34m\u001b[0m\u001b[0;34m\u001b[0m\u001b[0m\n\u001b[1;32m    646\u001b[0m       \u001b[0mcanon_args\u001b[0m\u001b[0;34m,\u001b[0m \u001b[0mcanon_kwds\u001b[0m \u001b[0;34m=\u001b[0m\u001b[0;31m \u001b[0m\u001b[0;31m\\\u001b[0m\u001b[0;34m\u001b[0m\u001b[0;34m\u001b[0m\u001b[0m\n",
            "\u001b[0;32m/Library/Frameworks/Python.framework/Versions/3.8/lib/python3.8/site-packages/tensorflow/python/eager/function.py\u001b[0m in \u001b[0;36m__call__\u001b[0;34m(self, *args, **kwargs)\u001b[0m\n\u001b[1;32m   2418\u001b[0m     \u001b[0;32mwith\u001b[0m \u001b[0mself\u001b[0m\u001b[0;34m.\u001b[0m\u001b[0m_lock\u001b[0m\u001b[0;34m:\u001b[0m\u001b[0;34m\u001b[0m\u001b[0;34m\u001b[0m\u001b[0m\n\u001b[1;32m   2419\u001b[0m       \u001b[0mgraph_function\u001b[0m\u001b[0;34m,\u001b[0m \u001b[0margs\u001b[0m\u001b[0;34m,\u001b[0m \u001b[0mkwargs\u001b[0m \u001b[0;34m=\u001b[0m \u001b[0mself\u001b[0m\u001b[0;34m.\u001b[0m\u001b[0m_maybe_define_function\u001b[0m\u001b[0;34m(\u001b[0m\u001b[0margs\u001b[0m\u001b[0;34m,\u001b[0m \u001b[0mkwargs\u001b[0m\u001b[0;34m)\u001b[0m\u001b[0;34m\u001b[0m\u001b[0;34m\u001b[0m\u001b[0m\n\u001b[0;32m-> 2420\u001b[0;31m     \u001b[0;32mreturn\u001b[0m \u001b[0mgraph_function\u001b[0m\u001b[0;34m.\u001b[0m\u001b[0m_filtered_call\u001b[0m\u001b[0;34m(\u001b[0m\u001b[0margs\u001b[0m\u001b[0;34m,\u001b[0m \u001b[0mkwargs\u001b[0m\u001b[0;34m)\u001b[0m  \u001b[0;31m# pylint: disable=protected-access\u001b[0m\u001b[0;34m\u001b[0m\u001b[0;34m\u001b[0m\u001b[0m\n\u001b[0m\u001b[1;32m   2421\u001b[0m \u001b[0;34m\u001b[0m\u001b[0m\n\u001b[1;32m   2422\u001b[0m   \u001b[0;34m@\u001b[0m\u001b[0mproperty\u001b[0m\u001b[0;34m\u001b[0m\u001b[0;34m\u001b[0m\u001b[0m\n",
            "\u001b[0;32m/Library/Frameworks/Python.framework/Versions/3.8/lib/python3.8/site-packages/tensorflow/python/eager/function.py\u001b[0m in \u001b[0;36m_filtered_call\u001b[0;34m(self, args, kwargs)\u001b[0m\n\u001b[1;32m   1659\u001b[0m       \u001b[0;31m`\u001b[0m\u001b[0margs\u001b[0m\u001b[0;31m`\u001b[0m \u001b[0;32mand\u001b[0m\u001b[0;31m \u001b[0m\u001b[0;31m`\u001b[0m\u001b[0mkwargs\u001b[0m\u001b[0;31m`\u001b[0m\u001b[0;34m.\u001b[0m\u001b[0;34m\u001b[0m\u001b[0;34m\u001b[0m\u001b[0m\n\u001b[1;32m   1660\u001b[0m     \"\"\"\n\u001b[0;32m-> 1661\u001b[0;31m     return self._call_flat(\n\u001b[0m\u001b[1;32m   1662\u001b[0m         (t for t in nest.flatten((args, kwargs), expand_composites=True)\n\u001b[1;32m   1663\u001b[0m          if isinstance(t, (ops.Tensor,\n",
            "\u001b[0;32m/Library/Frameworks/Python.framework/Versions/3.8/lib/python3.8/site-packages/tensorflow/python/eager/function.py\u001b[0m in \u001b[0;36m_call_flat\u001b[0;34m(self, args, captured_inputs, cancellation_manager)\u001b[0m\n\u001b[1;32m   1743\u001b[0m         and executing_eagerly):\n\u001b[1;32m   1744\u001b[0m       \u001b[0;31m# No tape is watching; skip to running the function.\u001b[0m\u001b[0;34m\u001b[0m\u001b[0;34m\u001b[0m\u001b[0;34m\u001b[0m\u001b[0m\n\u001b[0;32m-> 1745\u001b[0;31m       return self._build_call_outputs(self._inference_function.call(\n\u001b[0m\u001b[1;32m   1746\u001b[0m           ctx, args, cancellation_manager=cancellation_manager))\n\u001b[1;32m   1747\u001b[0m     forward_backward = self._select_forward_and_backward_functions(\n",
            "\u001b[0;32m/Library/Frameworks/Python.framework/Versions/3.8/lib/python3.8/site-packages/tensorflow/python/eager/function.py\u001b[0m in \u001b[0;36mcall\u001b[0;34m(self, ctx, args, cancellation_manager)\u001b[0m\n\u001b[1;32m    591\u001b[0m       \u001b[0;32mwith\u001b[0m \u001b[0m_InterpolateFunctionError\u001b[0m\u001b[0;34m(\u001b[0m\u001b[0mself\u001b[0m\u001b[0;34m)\u001b[0m\u001b[0;34m:\u001b[0m\u001b[0;34m\u001b[0m\u001b[0;34m\u001b[0m\u001b[0m\n\u001b[1;32m    592\u001b[0m         \u001b[0;32mif\u001b[0m \u001b[0mcancellation_manager\u001b[0m \u001b[0;32mis\u001b[0m \u001b[0;32mNone\u001b[0m\u001b[0;34m:\u001b[0m\u001b[0;34m\u001b[0m\u001b[0;34m\u001b[0m\u001b[0m\n\u001b[0;32m--> 593\u001b[0;31m           outputs = execute.execute(\n\u001b[0m\u001b[1;32m    594\u001b[0m               \u001b[0mstr\u001b[0m\u001b[0;34m(\u001b[0m\u001b[0mself\u001b[0m\u001b[0;34m.\u001b[0m\u001b[0msignature\u001b[0m\u001b[0;34m.\u001b[0m\u001b[0mname\u001b[0m\u001b[0;34m)\u001b[0m\u001b[0;34m,\u001b[0m\u001b[0;34m\u001b[0m\u001b[0;34m\u001b[0m\u001b[0m\n\u001b[1;32m    595\u001b[0m               \u001b[0mnum_outputs\u001b[0m\u001b[0;34m=\u001b[0m\u001b[0mself\u001b[0m\u001b[0;34m.\u001b[0m\u001b[0m_num_outputs\u001b[0m\u001b[0;34m,\u001b[0m\u001b[0;34m\u001b[0m\u001b[0;34m\u001b[0m\u001b[0m\n",
            "\u001b[0;32m/Library/Frameworks/Python.framework/Versions/3.8/lib/python3.8/site-packages/tensorflow/python/eager/execute.py\u001b[0m in \u001b[0;36mquick_execute\u001b[0;34m(op_name, num_outputs, inputs, attrs, ctx, name)\u001b[0m\n\u001b[1;32m     57\u001b[0m   \u001b[0;32mtry\u001b[0m\u001b[0;34m:\u001b[0m\u001b[0;34m\u001b[0m\u001b[0;34m\u001b[0m\u001b[0m\n\u001b[1;32m     58\u001b[0m     \u001b[0mctx\u001b[0m\u001b[0;34m.\u001b[0m\u001b[0mensure_initialized\u001b[0m\u001b[0;34m(\u001b[0m\u001b[0;34m)\u001b[0m\u001b[0;34m\u001b[0m\u001b[0;34m\u001b[0m\u001b[0m\n\u001b[0;32m---> 59\u001b[0;31m     tensors = pywrap_tfe.TFE_Py_Execute(ctx._handle, device_name, op_name,\n\u001b[0m\u001b[1;32m     60\u001b[0m                                         inputs, attrs, num_outputs)\n\u001b[1;32m     61\u001b[0m   \u001b[0;32mexcept\u001b[0m \u001b[0mcore\u001b[0m\u001b[0;34m.\u001b[0m\u001b[0m_NotOkStatusException\u001b[0m \u001b[0;32mas\u001b[0m \u001b[0me\u001b[0m\u001b[0;34m:\u001b[0m\u001b[0;34m\u001b[0m\u001b[0;34m\u001b[0m\u001b[0m\n",
            "\u001b[0;31mInvalidArgumentError\u001b[0m:  input depth must be evenly divisible by filter depth: 1 vs 3\n\t [[node model_2/block1_conv1/Relu (defined at <ipython-input-158-f064e234d6e8>:15) ]] [Op:__inference_train_function_11399]\n\nFunction call stack:\ntrain_function\n"
          ]
        }
      ]
    },
    {
      "cell_type": "code",
      "metadata": {
        "id": "-ntlu8Z-f0on",
        "outputId": "0ee91b67-9231-4d1f-eca0-8898d8a5f5ff"
      },
      "source": [
        "type(h5)"
      ],
      "execution_count": null,
      "outputs": [
        {
          "output_type": "execute_result",
          "data": {
            "text/plain": [
              "h5py._hl.files.File"
            ]
          },
          "metadata": {
            "tags": []
          },
          "execution_count": 129
        }
      ]
    },
    {
      "cell_type": "code",
      "metadata": {
        "id": "iKINWJAHf0oq",
        "outputId": "72b146fd-67ee-4352-9cc9-7f57cd003565"
      },
      "source": [
        "model = VGG16(include_top=False)\n",
        "new_input = Input(shape=X_test.shape[1:])\n",
        "model = VGG16(include_top=False, input_tensor=new_input)"
      ],
      "execution_count": null,
      "outputs": [
        {
          "output_type": "error",
          "ename": "TypeError",
          "evalue": "'File' object is not callable",
          "traceback": [
            "\u001b[0;31m---------------------------------------------------------------------------\u001b[0m",
            "\u001b[0;31mTypeError\u001b[0m                                 Traceback (most recent call last)",
            "\u001b[0;32m<ipython-input-115-e86e41b10c57>\u001b[0m in \u001b[0;36m<module>\u001b[0;34m\u001b[0m\n\u001b[0;32m----> 1\u001b[0;31m \u001b[0mmodel\u001b[0m \u001b[0;34m=\u001b[0m \u001b[0mVGG16\u001b[0m\u001b[0;34m(\u001b[0m\u001b[0minclude_top\u001b[0m\u001b[0;34m=\u001b[0m\u001b[0;32mFalse\u001b[0m\u001b[0;34m)\u001b[0m\u001b[0;34m\u001b[0m\u001b[0;34m\u001b[0m\u001b[0m\n\u001b[0m\u001b[1;32m      2\u001b[0m \u001b[0mnew_input\u001b[0m \u001b[0;34m=\u001b[0m \u001b[0mInput\u001b[0m\u001b[0;34m(\u001b[0m\u001b[0mshape\u001b[0m\u001b[0;34m=\u001b[0m\u001b[0mX_test\u001b[0m\u001b[0;34m.\u001b[0m\u001b[0mshape\u001b[0m\u001b[0;34m[\u001b[0m\u001b[0;36m1\u001b[0m\u001b[0;34m:\u001b[0m\u001b[0;34m]\u001b[0m\u001b[0;34m)\u001b[0m\u001b[0;34m\u001b[0m\u001b[0;34m\u001b[0m\u001b[0m\n\u001b[1;32m      3\u001b[0m \u001b[0mmodel\u001b[0m \u001b[0;34m=\u001b[0m \u001b[0mVGG16\u001b[0m\u001b[0;34m(\u001b[0m\u001b[0minclude_top\u001b[0m\u001b[0;34m=\u001b[0m\u001b[0;32mFalse\u001b[0m\u001b[0;34m,\u001b[0m \u001b[0minput_tensor\u001b[0m\u001b[0;34m=\u001b[0m\u001b[0mnew_input\u001b[0m\u001b[0;34m)\u001b[0m\u001b[0;34m\u001b[0m\u001b[0;34m\u001b[0m\u001b[0m\n",
            "\u001b[0;31mTypeError\u001b[0m: 'File' object is not callable"
          ]
        }
      ]
    },
    {
      "cell_type": "code",
      "metadata": {
        "id": "MKGFx209f0os",
        "outputId": "71e61e03-0114-49fe-df8c-bab8e7370a07"
      },
      "source": [
        "X_train, y_train = image_shaper(train)\n",
        "X_test, y_test = image_shaper(test)\n",
        "X_test.shape"
      ],
      "execution_count": null,
      "outputs": [
        {
          "output_type": "execute_result",
          "data": {
            "text/plain": [
              "(4, 708430, 19, 1)"
            ]
          },
          "metadata": {
            "tags": []
          },
          "execution_count": 14
        }
      ]
    },
    {
      "cell_type": "code",
      "metadata": {
        "id": "-Tc-hJ4of0ov"
      },
      "source": [
        "# building the input vector from the 28x28 pixels\n",
        "X_train = X_train.astype('float32')\n",
        "X_test = X_test.astype('float32')\n",
        "\n",
        "# normalizing the data to help with the training\n",
        "X_train /= 255\n",
        "X_test /= 255"
      ],
      "execution_count": null,
      "outputs": []
    },
    {
      "cell_type": "code",
      "metadata": {
        "id": "1iwk9tIof0oy"
      },
      "source": [
        "# building a linear stack of layers with the sequential model\n",
        "model = models.Sequential()\n",
        "model.add(layers.Conv2D(5, (3, 3), activation='relu', input_shape=(X_test.shape[1:])))\n",
        "model.add(layers.Conv2D(5, (3, 3), activation='relu'))\n",
        "model.add(layers.Flatten())\n",
        "model.add(layers.Dense(12, activation='relu'))\n",
        "model.add(layers.Dense(4))"
      ],
      "execution_count": null,
      "outputs": []
    },
    {
      "cell_type": "code",
      "metadata": {
        "id": "qex0WCkYf0o0",
        "outputId": "3674b332-6401-4028-b8fe-977a9c96d0b8"
      },
      "source": [
        "model.summary()"
      ],
      "execution_count": null,
      "outputs": [
        {
          "output_type": "stream",
          "text": [
            "Model: \"sequential\"\n",
            "_________________________________________________________________\n",
            "Layer (type)                 Output Shape              Param #   \n",
            "=================================================================\n",
            "conv2d (Conv2D)              (None, 708428, 17, 5)     50        \n",
            "_________________________________________________________________\n",
            "conv2d_1 (Conv2D)            (None, 708426, 15, 5)     230       \n",
            "_________________________________________________________________\n",
            "flatten (Flatten)            (None, 53131950)          0         \n",
            "_________________________________________________________________\n",
            "dense (Dense)                (None, 12)                637583412 \n",
            "_________________________________________________________________\n",
            "dense_1 (Dense)              (None, 4)                 52        \n",
            "=================================================================\n",
            "Total params: 637,583,744\n",
            "Trainable params: 637,583,744\n",
            "Non-trainable params: 0\n",
            "_________________________________________________________________\n"
          ],
          "name": "stdout"
        }
      ]
    },
    {
      "cell_type": "code",
      "metadata": {
        "id": "ovUjUlVDf0o1",
        "outputId": "5f845d11-c908-4d44-9067-36ab16e4b495"
      },
      "source": [
        "model.compile(optimizer='adam',\n",
        "              loss=tf.keras.losses.SparseCategoricalCrossentropy(from_logits=True),\n",
        "              metrics=['accuracy'])\n",
        "\n",
        "history = model.fit(X_train, y_train, epochs=10, \n",
        "                    validation_data=(X_test, y_test))"
      ],
      "execution_count": null,
      "outputs": [
        {
          "output_type": "stream",
          "text": [
            "Epoch 1/10\n",
            "1/1 [==============================] - 13s 13s/step - loss: 1.3863 - accuracy: 0.2500 - val_loss: 6.5016 - val_accuracy: 0.2500\n",
            "Epoch 2/10\n",
            "1/1 [==============================] - 13s 13s/step - loss: 6.5618 - accuracy: 0.2500 - val_loss: 1.3863 - val_accuracy: 0.2500\n",
            "Epoch 3/10\n",
            "1/1 [==============================] - 13s 13s/step - loss: 1.3020 - accuracy: 0.5000 - val_loss: 1.3832 - val_accuracy: 0.2500\n",
            "Epoch 4/10\n",
            "1/1 [==============================] - 13s 13s/step - loss: 1.3185 - accuracy: 0.5000 - val_loss: 1.3860 - val_accuracy: 0.2500\n",
            "Epoch 5/10\n",
            "1/1 [==============================] - 13s 13s/step - loss: 1.3737 - accuracy: 0.5000 - val_loss: 1.3863 - val_accuracy: 0.2500\n",
            "Epoch 6/10\n",
            "1/1 [==============================] - 14s 14s/step - loss: 1.3833 - accuracy: 0.2500 - val_loss: 1.3863 - val_accuracy: 0.2500\n",
            "Epoch 7/10\n",
            "1/1 [==============================] - 13s 13s/step - loss: 1.3859 - accuracy: 0.2500 - val_loss: 1.3863 - val_accuracy: 0.2500\n",
            "Epoch 8/10\n",
            "1/1 [==============================] - 14s 14s/step - loss: 1.3863 - accuracy: 0.2500 - val_loss: 1.3863 - val_accuracy: 0.2500\n",
            "Epoch 9/10\n",
            "1/1 [==============================] - 14s 14s/step - loss: 1.3863 - accuracy: 0.2500 - val_loss: 1.3863 - val_accuracy: 0.2500\n",
            "Epoch 10/10\n",
            "1/1 [==============================] - 15s 15s/step - loss: 1.3863 - accuracy: 0.2500 - val_loss: 1.3863 - val_accuracy: 0.2500\n"
          ],
          "name": "stdout"
        }
      ]
    },
    {
      "cell_type": "code",
      "metadata": {
        "id": "h1UjymIHf0o4",
        "outputId": "f30fbe22-ec5b-41c0-a227-be4a66a2916b"
      },
      "source": [
        "test_loss, test_acc = model.evaluate(X_test,  y_test, verbose=2)"
      ],
      "execution_count": null,
      "outputs": [
        {
          "output_type": "stream",
          "text": [
            "1/1 - 0s - loss: 1.3863 - accuracy: 0.2500\n"
          ],
          "name": "stdout"
        }
      ]
    },
    {
      "cell_type": "code",
      "metadata": {
        "id": "bDOrYjhvf0o6",
        "outputId": "20b577fd-36f2-4436-e39d-e95b6c6580cc"
      },
      "source": [
        "# serialize model to JSON\n",
        "model_json = model.to_json()\n",
        "with open(\"model_cnn2.json\", \"w\") as json_file:\n",
        "    json_file.write(model_json)\n",
        "# serialize weights to HDF5\n",
        "model.save_weights(\"model_cnn2.h5\")\n",
        "print(\"Saved model to disk\")\n",
        " \n",
        "# later..."
      ],
      "execution_count": null,
      "outputs": [
        {
          "output_type": "stream",
          "text": [
            "Saved model to disk\n"
          ],
          "name": "stdout"
        }
      ]
    },
    {
      "cell_type": "code",
      "metadata": {
        "id": "awhTUWzTf0o-",
        "outputId": "78633917-3490-41ef-a037-1bd5cc988680"
      },
      "source": [
        " \n",
        "# load json and create model\n",
        "json_file = open('model_cnn2.json', 'r')\n",
        "loaded_model_json = json_file.read()\n",
        "json_file.close()\n",
        "loaded_model = model_from_json(loaded_model_json)\n",
        "# load weights into new model\n",
        "loaded_model.load_weights(\"model_cnn2.h5\")\n",
        "print(\"Loaded model from disk\")\n",
        " "
      ],
      "execution_count": null,
      "outputs": [
        {
          "output_type": "stream",
          "text": [
            "Loaded model from disk\n"
          ],
          "name": "stdout"
        }
      ]
    },
    {
      "cell_type": "markdown",
      "metadata": {
        "id": "VAYaIB5Af0pE"
      },
      "source": [
        "Please run this cell only after loading the trained model"
      ]
    },
    {
      "cell_type": "code",
      "metadata": {
        "id": "iyuDooldf0pE",
        "outputId": "27429949-4bd0-4e89-f23c-adb04098e48f"
      },
      "source": [
        "# evaluate loaded model on test data\n",
        "loaded_model.compile(loss='mae', optimizer='adam', metrics=['accuracy'])\n",
        "score = loaded_model.evaluate(X_train, y_train, verbose=0)\n",
        "print(\"%s: %.2f%%\" % (loaded_model.metrics_names[1], 100-(score[0]*100)))"
      ],
      "execution_count": null,
      "outputs": [
        {
          "output_type": "stream",
          "text": [
            "accuracy: -50.07%\n"
          ],
          "name": "stdout"
        }
      ]
    }
  ]
}